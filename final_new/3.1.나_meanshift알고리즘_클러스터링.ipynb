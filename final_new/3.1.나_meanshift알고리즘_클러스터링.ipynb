{
 "cells": [
  {
   "cell_type": "code",
   "execution_count": 3,
   "id": "7d63b459",
   "metadata": {},
   "outputs": [],
   "source": [
    "from sklearn.cluster import MeanShift\n",
    "import numpy as np"
   ]
  },
  {
   "cell_type": "code",
   "execution_count": 6,
   "id": "a37d86bb",
   "metadata": {},
   "outputs": [
    {
     "name": "stdout",
     "output_type": "stream",
     "text": [
      "         STRG_DT  FRT_LNGTH  SGCN_PH_RATE  FRST_TREE_CNT  \\\n",
      "0  1/1/2022 0:00       4.41          15.9            5.0   \n",
      "1  1/2/2022 0:00       4.41          15.9            5.0   \n",
      "2  1/3/2022 0:00       4.41          15.9            5.0   \n",
      "3  1/4/2022 0:00       4.41          15.9            5.0   \n",
      "4  1/5/2022 0:00       4.41          15.9            5.0   \n",
      "\n",
      "   LEAF_LNGTH_LEAF_WDTH_RATE  ACCMLT_LEAF_CNT  LEAF_CNT_INCR_SPD  PLT_LNGTH  \\\n",
      "0                       1.41                6                0.0      32.53   \n",
      "1                       1.41                6                0.0      32.53   \n",
      "2                       1.41                6                0.0      32.53   \n",
      "3                       1.41                6                0.0      32.53   \n",
      "4                       1.41                6                0.0      32.53   \n",
      "\n",
      "   GRTH_LNGTH  LEAF_WDTH  ...  BLMNG_CNT  SGCN  PH_LVL  FRT_WT  LEAF_LNGTH  \\\n",
      "0       21.47       72.2  ...       1.21  9.86    0.62   19.03       10.15   \n",
      "1       21.47       72.2  ...       1.21  9.86    0.62   19.03       10.15   \n",
      "2       21.47       72.2  ...       1.21  9.86    0.62   19.03       10.15   \n",
      "3       21.47       72.2  ...       1.21  9.86    0.62   19.03       10.15   \n",
      "4       21.47       72.2  ...       1.21  9.86    0.62   19.03       10.15   \n",
      "\n",
      "   NOT_BLMNG_CNT  LEAF_CNT  SHPMN_QTY  FRST_RATE  FRT_WT_WDTH_RATE  \n",
      "0              0       6.5      350.0       4.13              5.38  \n",
      "1              0       6.5      350.0       4.13              5.38  \n",
      "2              0       6.5      350.0       4.13              5.38  \n",
      "3              0       6.5      350.0       4.13              5.38  \n",
      "4              0       6.5      350.0       4.13              5.38  \n",
      "\n",
      "[5 rows x 25 columns]\n"
     ]
    }
   ],
   "source": [
    "import pandas as pd\n",
    "import matplotlib.pyplot as plt\n",
    "df= pd.read_csv(\"C:/Users/user/Desktop/빅콘테스트/GROUPED_GROWTH_DATA.csv\")\n",
    "print(df.head())"
   ]
  },
  {
   "cell_type": "code",
   "execution_count": 37,
   "id": "e69afda3",
   "metadata": {},
   "outputs": [],
   "source": [
    "y= df[[\"STRG_DT\"]]"
   ]
  },
  {
   "cell_type": "code",
   "execution_count": 39,
   "id": "748f2e4d",
   "metadata": {},
   "outputs": [],
   "source": [
    "jiny= y.values"
   ]
  },
  {
   "cell_type": "code",
   "execution_count": 40,
   "id": "35f137ae",
   "metadata": {},
   "outputs": [
    {
     "data": {
      "text/plain": [
       "array([['1/1/2022 0:00'],\n",
       "       ['1/2/2022 0:00'],\n",
       "       ['1/3/2022 0:00'],\n",
       "       ['1/4/2022 0:00'],\n",
       "       ['1/5/2022 0:00'],\n",
       "       ['1/6/2022 0:00'],\n",
       "       ['1/7/2022 0:00'],\n",
       "       ['1/8/2022 0:00'],\n",
       "       ['1/9/2022 0:00'],\n",
       "       ['1/10/2022 0:00'],\n",
       "       ['1/11/2022 0:00'],\n",
       "       ['1/12/2022 0:00'],\n",
       "       ['1/13/2022 0:00'],\n",
       "       ['1/14/2022 0:00'],\n",
       "       ['1/15/2022 0:00'],\n",
       "       ['1/16/2022 0:00'],\n",
       "       ['1/17/2022 0:00'],\n",
       "       ['1/18/2022 0:00'],\n",
       "       ['1/19/2022 0:00'],\n",
       "       ['1/20/2022 0:00'],\n",
       "       ['1/21/2022 0:00'],\n",
       "       ['1/22/2022 0:00'],\n",
       "       ['1/23/2022 0:00'],\n",
       "       ['1/24/2022 0:00'],\n",
       "       ['1/25/2022 0:00'],\n",
       "       ['1/26/2022 0:00'],\n",
       "       ['1/27/2022 0:00'],\n",
       "       ['1/28/2022 0:00'],\n",
       "       ['1/29/2022 0:00'],\n",
       "       ['1/30/2022 0:00'],\n",
       "       ['1/31/2022 0:00'],\n",
       "       ['2/1/2022 0:00'],\n",
       "       ['2/2/2022 0:00'],\n",
       "       ['2/3/2022 0:00'],\n",
       "       ['2/4/2022 0:00'],\n",
       "       ['2/5/2022 0:00'],\n",
       "       ['2/6/2022 0:00'],\n",
       "       ['2/7/2022 0:00'],\n",
       "       ['2/8/2022 0:00'],\n",
       "       ['2/9/2022 0:00'],\n",
       "       ['2/10/2022 0:00'],\n",
       "       ['2/11/2022 0:00'],\n",
       "       ['2/12/2022 0:00'],\n",
       "       ['2/13/2022 0:00'],\n",
       "       ['2/14/2022 0:00'],\n",
       "       ['2/15/2022 0:00'],\n",
       "       ['2/16/2022 0:00'],\n",
       "       ['2/17/2022 0:00'],\n",
       "       ['2/18/2022 0:00'],\n",
       "       ['2/19/2022 0:00'],\n",
       "       ['2/20/2022 0:00'],\n",
       "       ['2/21/2022 0:00'],\n",
       "       ['2/22/2022 0:00'],\n",
       "       ['2/23/2022 0:00'],\n",
       "       ['2/24/2022 0:00'],\n",
       "       ['2/25/2022 0:00'],\n",
       "       ['2/26/2022 0:00'],\n",
       "       ['2/27/2022 0:00'],\n",
       "       ['2/28/2022 0:00'],\n",
       "       ['3/1/2022 0:00'],\n",
       "       ['3/2/2022 0:00'],\n",
       "       ['3/3/2022 0:00'],\n",
       "       ['3/4/2022 0:00'],\n",
       "       ['3/5/2022 0:00'],\n",
       "       ['3/6/2022 0:00'],\n",
       "       ['3/7/2022 0:00'],\n",
       "       ['3/8/2022 0:00'],\n",
       "       ['3/9/2022 0:00'],\n",
       "       ['3/10/2022 0:00'],\n",
       "       ['3/11/2022 0:00'],\n",
       "       ['3/12/2022 0:00'],\n",
       "       ['3/13/2022 0:00'],\n",
       "       ['3/14/2022 0:00'],\n",
       "       ['3/15/2022 0:00'],\n",
       "       ['3/16/2022 0:00'],\n",
       "       ['3/17/2022 0:00'],\n",
       "       ['3/18/2022 0:00'],\n",
       "       ['3/19/2022 0:00'],\n",
       "       ['3/20/2022 0:00'],\n",
       "       ['3/21/2022 0:00'],\n",
       "       ['3/22/2022 0:00'],\n",
       "       ['3/23/2022 0:00'],\n",
       "       ['3/24/2022 0:00'],\n",
       "       ['3/25/2022 0:00'],\n",
       "       ['3/26/2022 0:00'],\n",
       "       ['3/27/2022 0:00'],\n",
       "       ['3/28/2022 0:00'],\n",
       "       ['3/29/2022 0:00'],\n",
       "       ['3/30/2022 0:00'],\n",
       "       ['3/31/2022 0:00'],\n",
       "       ['4/1/2022 0:00'],\n",
       "       ['4/2/2022 0:00'],\n",
       "       ['4/3/2022 0:00'],\n",
       "       ['4/4/2022 0:00'],\n",
       "       ['4/5/2022 0:00'],\n",
       "       ['4/6/2022 0:00'],\n",
       "       ['4/7/2022 0:00'],\n",
       "       ['4/8/2022 0:00'],\n",
       "       ['4/9/2022 0:00'],\n",
       "       ['4/10/2022 0:00'],\n",
       "       ['4/11/2022 0:00'],\n",
       "       ['4/12/2022 0:00'],\n",
       "       ['4/13/2022 0:00'],\n",
       "       ['4/14/2022 0:00'],\n",
       "       ['4/15/2022 0:00'],\n",
       "       ['4/16/2022 0:00'],\n",
       "       ['4/17/2022 0:00'],\n",
       "       ['4/18/2022 0:00'],\n",
       "       ['4/19/2022 0:00'],\n",
       "       ['4/20/2022 0:00'],\n",
       "       ['4/21/2022 0:00'],\n",
       "       ['4/22/2022 0:00'],\n",
       "       ['4/23/2022 0:00'],\n",
       "       ['4/24/2022 0:00'],\n",
       "       ['4/25/2022 0:00'],\n",
       "       ['4/26/2022 0:00'],\n",
       "       ['4/27/2022 0:00'],\n",
       "       ['4/28/2022 0:00'],\n",
       "       ['4/29/2022 0:00'],\n",
       "       ['4/30/2022 0:00'],\n",
       "       ['5/1/2022 0:00'],\n",
       "       ['5/2/2022 0:00'],\n",
       "       ['5/3/2022 0:00'],\n",
       "       ['5/4/2022 0:00'],\n",
       "       ['5/5/2022 0:00'],\n",
       "       ['5/6/2022 0:00'],\n",
       "       ['5/7/2022 0:00'],\n",
       "       ['5/8/2022 0:00'],\n",
       "       ['5/9/2022 0:00'],\n",
       "       ['5/10/2022 0:00'],\n",
       "       ['5/11/2022 0:00'],\n",
       "       ['5/12/2022 0:00'],\n",
       "       ['5/13/2022 0:00'],\n",
       "       ['5/14/2022 0:00'],\n",
       "       ['5/15/2022 0:00'],\n",
       "       ['5/16/2022 0:00'],\n",
       "       ['5/17/2022 0:00'],\n",
       "       ['5/18/2022 0:00'],\n",
       "       ['5/19/2022 0:00'],\n",
       "       ['5/20/2022 0:00'],\n",
       "       ['5/21/2022 0:00'],\n",
       "       ['5/22/2022 0:00'],\n",
       "       ['5/23/2022 0:00'],\n",
       "       ['5/24/2022 0:00'],\n",
       "       ['5/25/2022 0:00'],\n",
       "       ['5/26/2022 0:00'],\n",
       "       ['5/27/2022 0:00'],\n",
       "       ['5/28/2022 0:00'],\n",
       "       ['5/29/2022 0:00'],\n",
       "       ['5/30/2022 0:00'],\n",
       "       ['5/31/2022 0:00'],\n",
       "       ['6/1/2022 0:00'],\n",
       "       ['6/2/2022 0:00'],\n",
       "       ['6/3/2022 0:00'],\n",
       "       ['6/4/2022 0:00'],\n",
       "       ['6/5/2022 0:00'],\n",
       "       ['6/6/2022 0:00'],\n",
       "       ['6/7/2022 0:00'],\n",
       "       ['6/8/2022 0:00'],\n",
       "       ['6/9/2022 0:00'],\n",
       "       ['6/10/2022 0:00'],\n",
       "       ['6/11/2022 0:00'],\n",
       "       ['6/12/2022 0:00'],\n",
       "       ['6/13/2022 0:00'],\n",
       "       ['6/14/2022 0:00'],\n",
       "       ['6/15/2022 0:00'],\n",
       "       ['6/16/2022 0:00'],\n",
       "       ['6/17/2022 0:00'],\n",
       "       ['6/18/2022 0:00'],\n",
       "       ['6/19/2022 0:00'],\n",
       "       ['6/20/2022 0:00'],\n",
       "       ['6/21/2022 0:00'],\n",
       "       ['6/22/2022 0:00'],\n",
       "       ['6/23/2022 0:00'],\n",
       "       ['6/24/2022 0:00'],\n",
       "       ['6/25/2022 0:00'],\n",
       "       ['6/26/2022 0:00'],\n",
       "       ['6/27/2022 0:00'],\n",
       "       ['6/28/2022 0:00'],\n",
       "       ['6/29/2022 0:00'],\n",
       "       ['6/30/2022 0:00']], dtype=object)"
      ]
     },
     "execution_count": 40,
     "metadata": {},
     "output_type": "execute_result"
    }
   ],
   "source": [
    "jiny"
   ]
  },
  {
   "cell_type": "code",
   "execution_count": 42,
   "id": "1085fd54",
   "metadata": {},
   "outputs": [],
   "source": [
    "X = df[[\"LEAF_LNGTH\",\"LEAF_CNT\"]]"
   ]
  },
  {
   "cell_type": "code",
   "execution_count": 43,
   "id": "d757e584",
   "metadata": {},
   "outputs": [],
   "source": [
    "X_0= X.values"
   ]
  },
  {
   "cell_type": "code",
   "execution_count": 44,
   "id": "2856d308",
   "metadata": {},
   "outputs": [
    {
     "data": {
      "text/plain": [
       "array([[10.15,  6.5 ],\n",
       "       [10.15,  6.5 ],\n",
       "       [10.15,  6.5 ],\n",
       "       [10.15,  6.5 ],\n",
       "       [10.15,  6.5 ],\n",
       "       [10.15,  6.5 ],\n",
       "       [10.15,  6.5 ],\n",
       "       [10.61,  6.88],\n",
       "       [10.61,  6.88],\n",
       "       [10.61,  6.88],\n",
       "       [10.6 ,  6.12],\n",
       "       [10.6 ,  6.12],\n",
       "       [10.6 ,  6.12],\n",
       "       [10.6 ,  6.12],\n",
       "       [10.6 ,  6.12],\n",
       "       [10.6 ,  6.12],\n",
       "       [10.6 ,  6.12],\n",
       "       [10.1 ,  6.5 ],\n",
       "       [10.1 ,  6.5 ],\n",
       "       [10.1 ,  6.5 ],\n",
       "       [10.1 ,  6.5 ],\n",
       "       [10.1 ,  6.5 ],\n",
       "       [10.1 ,  6.5 ],\n",
       "       [10.1 ,  6.5 ],\n",
       "       [ 9.37,  7.38],\n",
       "       [ 9.37,  7.38],\n",
       "       [ 9.37,  7.38],\n",
       "       [ 9.37,  7.38],\n",
       "       [ 9.37,  7.38],\n",
       "       [ 9.37,  7.38],\n",
       "       [ 9.37,  7.38],\n",
       "       [ 8.71,  8.12],\n",
       "       [ 8.71,  8.12],\n",
       "       [ 8.71,  8.12],\n",
       "       [ 8.71,  8.12],\n",
       "       [ 8.71,  8.12],\n",
       "       [ 8.71,  8.12],\n",
       "       [ 8.71,  8.12],\n",
       "       [ 8.6 ,  9.75],\n",
       "       [ 8.6 ,  9.75],\n",
       "       [ 8.6 ,  9.75],\n",
       "       [ 8.6 ,  9.75],\n",
       "       [ 8.6 ,  9.75],\n",
       "       [ 8.6 ,  9.75],\n",
       "       [ 8.6 ,  9.75],\n",
       "       [ 8.9 ,  9.5 ],\n",
       "       [ 8.9 ,  9.5 ],\n",
       "       [ 8.9 ,  9.5 ],\n",
       "       [ 8.9 ,  9.5 ],\n",
       "       [ 8.9 ,  9.5 ],\n",
       "       [ 8.9 ,  9.5 ],\n",
       "       [ 8.9 ,  9.5 ],\n",
       "       [ 8.61,  9.62],\n",
       "       [ 8.61,  9.62],\n",
       "       [ 8.61,  9.62],\n",
       "       [ 8.61,  9.62],\n",
       "       [ 8.61,  9.62],\n",
       "       [ 8.61,  9.62],\n",
       "       [ 8.61,  9.62],\n",
       "       [ 8.67,  7.88],\n",
       "       [ 8.67,  7.88],\n",
       "       [ 8.67,  7.88],\n",
       "       [ 8.67,  7.88],\n",
       "       [ 8.67,  7.88],\n",
       "       [ 8.67,  7.88],\n",
       "       [ 8.67,  7.88],\n",
       "       [ 8.85,  8.12],\n",
       "       [ 8.85,  8.12],\n",
       "       [ 8.85,  8.12],\n",
       "       [ 8.85,  8.12],\n",
       "       [ 8.85,  8.12],\n",
       "       [ 8.85,  8.12],\n",
       "       [ 8.85,  8.12],\n",
       "       [ 8.81,  9.5 ],\n",
       "       [ 8.81,  9.5 ],\n",
       "       [ 8.81,  9.5 ],\n",
       "       [ 8.81,  9.5 ],\n",
       "       [ 8.81,  9.5 ],\n",
       "       [ 8.81,  9.5 ],\n",
       "       [ 8.81,  9.5 ],\n",
       "       [ 9.2 ,  9.75],\n",
       "       [ 9.2 ,  9.75],\n",
       "       [ 9.2 ,  9.75],\n",
       "       [ 9.2 ,  9.75],\n",
       "       [ 9.2 ,  9.75],\n",
       "       [ 9.2 ,  9.75],\n",
       "       [ 9.2 ,  9.75],\n",
       "       [ 9.94, 11.  ],\n",
       "       [ 9.94, 11.  ],\n",
       "       [ 9.94, 11.  ],\n",
       "       [ 9.94, 11.  ],\n",
       "       [ 9.94, 11.  ],\n",
       "       [ 9.94, 11.  ],\n",
       "       [ 9.94, 11.  ],\n",
       "       [10.64, 10.88],\n",
       "       [10.64, 10.88],\n",
       "       [10.64, 10.88],\n",
       "       [10.64, 10.88],\n",
       "       [10.64, 10.88],\n",
       "       [10.64, 10.88],\n",
       "       [10.64, 10.88],\n",
       "       [10.57, 12.12],\n",
       "       [10.57, 12.12],\n",
       "       [10.57, 12.12],\n",
       "       [10.57, 12.12],\n",
       "       [10.57, 12.12],\n",
       "       [10.57, 12.12],\n",
       "       [11.02, 11.38],\n",
       "       [11.02, 11.38],\n",
       "       [11.02, 11.38],\n",
       "       [11.02, 11.38],\n",
       "       [11.02, 11.38],\n",
       "       [11.02, 11.38],\n",
       "       [11.02, 11.38],\n",
       "       [11.28, 12.25],\n",
       "       [11.28, 12.25],\n",
       "       [11.28, 12.25],\n",
       "       [11.28, 12.25],\n",
       "       [11.28, 12.25],\n",
       "       [11.28, 12.25],\n",
       "       [11.28, 12.25],\n",
       "       [11.61, 12.25],\n",
       "       [11.61, 12.25],\n",
       "       [11.61, 12.25],\n",
       "       [11.61, 12.25],\n",
       "       [11.61, 12.25],\n",
       "       [11.61, 12.25],\n",
       "       [11.61, 12.25],\n",
       "       [11.91, 10.  ],\n",
       "       [11.91, 10.  ],\n",
       "       [11.91, 10.  ],\n",
       "       [11.91, 10.  ],\n",
       "       [11.91, 10.  ],\n",
       "       [11.91, 10.  ],\n",
       "       [11.91, 10.  ],\n",
       "       [11.91, 10.  ],\n",
       "       [ 8.86,  6.12],\n",
       "       [ 8.86,  6.12],\n",
       "       [ 8.86,  6.12],\n",
       "       [ 8.86,  6.12],\n",
       "       [ 8.86,  6.12],\n",
       "       [ 8.86,  6.12],\n",
       "       [ 9.  ,  7.88],\n",
       "       [ 9.  ,  7.88],\n",
       "       [ 9.  ,  7.88],\n",
       "       [ 9.  ,  7.88],\n",
       "       [ 9.  ,  7.88],\n",
       "       [ 9.  ,  7.88],\n",
       "       [ 9.  ,  7.88],\n",
       "       [ 8.94,  7.38],\n",
       "       [ 8.94,  7.38],\n",
       "       [ 8.94,  7.38],\n",
       "       [ 8.94,  7.38],\n",
       "       [ 8.94,  7.38],\n",
       "       [ 8.94,  7.38],\n",
       "       [ 8.94,  7.38],\n",
       "       [ 8.94,  7.38],\n",
       "       [ 9.06,  7.25],\n",
       "       [ 9.06,  7.25],\n",
       "       [ 9.06,  7.25],\n",
       "       [ 9.06,  7.25],\n",
       "       [ 9.06,  7.25],\n",
       "       [ 9.06,  7.25],\n",
       "       [ 9.15,  7.12],\n",
       "       [ 9.15,  7.12],\n",
       "       [ 9.15,  7.12],\n",
       "       [ 9.15,  7.12],\n",
       "       [ 9.15,  7.12],\n",
       "       [ 9.15,  7.12],\n",
       "       [ 9.15,  7.12],\n",
       "       [ 9.47,  6.38],\n",
       "       [ 9.47,  6.38],\n",
       "       [ 9.47,  6.38],\n",
       "       [ 9.47,  6.38],\n",
       "       [ 9.47,  6.38],\n",
       "       [ 9.47,  6.38],\n",
       "       [ 9.47,  6.38],\n",
       "       [ 9.2 ,  5.5 ],\n",
       "       [ 9.2 ,  5.5 ],\n",
       "       [ 9.2 ,  5.5 ],\n",
       "       [ 9.2 ,  5.5 ]])"
      ]
     },
     "execution_count": 44,
     "metadata": {},
     "output_type": "execute_result"
    }
   ],
   "source": [
    "X_0"
   ]
  },
  {
   "cell_type": "code",
   "execution_count": 45,
   "id": "55d015b9",
   "metadata": {},
   "outputs": [],
   "source": [
    "clustering = MeanShift(bandwidth =2).fit(X_0)"
   ]
  },
  {
   "cell_type": "code",
   "execution_count": 46,
   "id": "4821a2ed",
   "metadata": {},
   "outputs": [],
   "source": [
    "cluster_centers = clustering.cluster_centers_"
   ]
  },
  {
   "cell_type": "code",
   "execution_count": 47,
   "id": "7315e7ae",
   "metadata": {},
   "outputs": [
    {
     "name": "stdout",
     "output_type": "stream",
     "text": [
      "Estimated number of clusters: 2\n",
      "Cluster centers:\n",
      " [[ 9.12396694  7.91652893]\n",
      " [ 9.465      10.1725    ]]\n"
     ]
    }
   ],
   "source": [
    "n_clusters = len(cluster_centers)\n",
    "print(\"Estimated number of clusters:\", n_clusters)\n",
    "print(\"Cluster centers:\\n\", cluster_centers)\n"
   ]
  },
  {
   "cell_type": "code",
   "execution_count": 48,
   "id": "4a71f7e6",
   "metadata": {},
   "outputs": [
    {
     "data": {
      "image/png": "[encoded data removed]",
      "text/plain": [
       "<Figure size 640x480 with 1 Axes>"
      ]
     },
     "metadata": {},
     "output_type": "display_data"
    }
   ],
   "source": [
    "plt.scatter(X_0[:, 0], X_0[:, 1], c=clustering.labels_, cmap='viridis')\n",
    "plt.scatter(cluster_centers[:, 0], cluster_centers[:, 1], s=200, color='red', marker='X')\n",
    "plt.xlabel('Feature 1')\n",
    "plt.ylabel('Feature 2')\n",
    "plt.title('MeanShift Clustering')\n",
    "plt.show()"
   ]
  },
  {
   "cell_type": "code",
   "execution_count": 75,
   "id": "07f0a05b",
   "metadata": {},
   "outputs": [
    {
     "data": {
      "image/png": "[encoded data removed]",
      "text/plain": [
       "<Figure size 640x480 with 1 Axes>"
      ]
     },
     "metadata": {},
     "output_type": "display_data"
    }
   ],
   "source": [
    "import matplotlib.pyplot as plt\n",
    "\n",
    "# Scatter plot for cluster 0\n",
    "plt.scatter(X_0[clustering.labels_ == cluster_label_0, 0], \n",
    "            X_0[clustering.labels_ == cluster_label_0, 1], \n",
    "            c='b', label='Cluster 0')\n",
    "\n",
    "# Scatter plot for cluster 1\n",
    "plt.scatter(X_0[clustering.labels_ == cluster_label_1, 0], \n",
    "            X_0[clustering.labels_ == cluster_label_1, 1], \n",
    "            c='r', label='Cluster 1')\n",
    "\n",
    "# Plot cluster centers\n",
    "plt.scatter(cluster_centers[:, 0], cluster_centers[:, 1], s=200, color='red', marker='X', label='Cluster Centers')\n",
    "\n",
    "plt.xlabel('Feature 1')\n",
    "plt.ylabel('Feature 2')\n",
    "plt.title('MeanShift Clustering')\n",
    "plt.legend()\n",
    "plt.show()\n"
   ]
  },
  {
   "cell_type": "code",
   "execution_count": 54,
   "id": "9e94cbc5",
   "metadata": {},
   "outputs": [
    {
     "data": {
      "text/plain": [
       "array([0, 0, 0, 0, 0, 0, 0, 0, 0, 0, 0, 0, 0, 0, 0, 0, 0, 0, 0, 0, 0, 0,\n",
       "       0, 0, 0, 0, 0, 0, 0, 0, 0, 0, 0, 0, 0, 0, 0, 0, 1, 1, 1, 1, 1, 1,\n",
       "       1, 1, 1, 1, 1, 1, 1, 1, 1, 1, 1, 1, 1, 1, 1, 0, 0, 0, 0, 0, 0, 0,\n",
       "       0, 0, 0, 0, 0, 0, 0, 1, 1, 1, 1, 1, 1, 1, 1, 1, 1, 1, 1, 1, 1, 1,\n",
       "       1, 1, 1, 1, 1, 1, 1, 1, 1, 1, 1, 1, 1, 1, 1, 1, 1, 1, 1, 1, 1, 1,\n",
       "       1, 1, 1, 1, 1, 1, 1, 1, 1, 1, 1, 1, 1, 1, 1, 1, 1, 1, 1, 1, 1, 1,\n",
       "       1, 1, 1, 1, 0, 0, 0, 0, 0, 0, 0, 0, 0, 0, 0, 0, 0, 0, 0, 0, 0, 0,\n",
       "       0, 0, 0, 0, 0, 0, 0, 0, 0, 0, 0, 0, 0, 0, 0, 0, 0, 0, 0, 0, 0, 0,\n",
       "       0, 0, 0, 0, 0], dtype=int64)"
      ]
     },
     "execution_count": 54,
     "metadata": {},
     "output_type": "execute_result"
    }
   ],
   "source": [
    "clustering.labels_"
   ]
  },
  {
   "cell_type": "code",
   "execution_count": 76,
   "id": "6af8fce4",
   "metadata": {},
   "outputs": [],
   "source": [
    "# 최적의 bandwidth를 추정\n",
    "from sklearn.cluster import MeanShift, estimate_bandwidth\n",
    "bandwidth = estimate_bandwidth(X_0, quantile=0.2, n_samples=len(X_0))\n",
    "clustering = MeanShift(bandwidth=bandwidth).fit(X_0)"
   ]
  },
  {
   "cell_type": "code",
   "execution_count": 77,
   "id": "c4e5ddbd",
   "metadata": {},
   "outputs": [],
   "source": [
    "cluster_centers = clustering.cluster_centers_"
   ]
  },
  {
   "cell_type": "code",
   "execution_count": 78,
   "id": "57d714a7",
   "metadata": {},
   "outputs": [
    {
     "name": "stdout",
     "output_type": "stream",
     "text": [
      "Estimated number of clusters: 4\n",
      "Cluster centers:\n",
      " [[ 9.19674699  7.2339759 ]\n",
      " [10.85       11.63512195]\n",
      " [ 8.824       9.624     ]\n",
      " [11.91       10.        ]]\n"
     ]
    }
   ],
   "source": [
    "n_clusters = len(cluster_centers)\n",
    "print(\"Estimated number of clusters:\", n_clusters)\n",
    "print(\"Cluster centers:\\n\", cluster_centers)\n"
   ]
  },
  {
   "cell_type": "code",
   "execution_count": 79,
   "id": "90742f48",
   "metadata": {},
   "outputs": [
    {
     "data": {
      "image/png": "[encoded data removed]",
      "text/plain": [
       "<Figure size 640x480 with 1 Axes>"
      ]
     },
     "metadata": {},
     "output_type": "display_data"
    }
   ],
   "source": [
    "plt.scatter(X_0[:, 0], X_0[:, 1], c=clustering.labels_, cmap='viridis')\n",
    "plt.scatter(cluster_centers[:, 0], cluster_centers[:, 1], s=200, color='red', marker='X')\n",
    "plt.xlabel(\"LEAF_LNGTH\")\n",
    "plt.ylabel(\"LEAF_CNT\")\n",
    "plt.title('MeanShift Clustering')\n",
    "plt.show()"
   ]
  },
  {
   "cell_type": "code",
   "execution_count": 80,
   "id": "2a014bcd",
   "metadata": {},
   "outputs": [
    {
     "data": {
      "text/plain": [
       "array([0, 0, 0, 0, 0, 0, 0, 0, 0, 0, 0, 0, 0, 0, 0, 0, 0, 0, 0, 0, 0, 0,\n",
       "       0, 0, 0, 0, 0, 0, 0, 0, 0, 0, 0, 0, 0, 0, 0, 0, 2, 2, 2, 2, 2, 2,\n",
       "       2, 2, 2, 2, 2, 2, 2, 2, 2, 2, 2, 2, 2, 2, 2, 0, 0, 0, 0, 0, 0, 0,\n",
       "       0, 0, 0, 0, 0, 0, 0, 2, 2, 2, 2, 2, 2, 2, 2, 2, 2, 2, 2, 2, 2, 1,\n",
       "       1, 1, 1, 1, 1, 1, 1, 1, 1, 1, 1, 1, 1, 1, 1, 1, 1, 1, 1, 1, 1, 1,\n",
       "       1, 1, 1, 1, 1, 1, 1, 1, 1, 1, 1, 1, 1, 1, 1, 1, 1, 1, 3, 3, 3, 3,\n",
       "       3, 3, 3, 3, 0, 0, 0, 0, 0, 0, 0, 0, 0, 0, 0, 0, 0, 0, 0, 0, 0, 0,\n",
       "       0, 0, 0, 0, 0, 0, 0, 0, 0, 0, 0, 0, 0, 0, 0, 0, 0, 0, 0, 0, 0, 0,\n",
       "       0, 0, 0, 0, 0], dtype=int64)"
      ]
     },
     "execution_count": 80,
     "metadata": {},
     "output_type": "execute_result"
    }
   ],
   "source": [
    "clustering.labels_"
   ]
  },
  {
   "cell_type": "code",
   "execution_count": 81,
   "id": "77dbf053",
   "metadata": {},
   "outputs": [
    {
     "data": {
      "image/png": "[encoded data removed]",
      "text/plain": [
       "<Figure size 640x480 with 1 Axes>"
      ]
     },
     "metadata": {},
     "output_type": "display_data"
    }
   ],
   "source": [
    "import matplotlib.pyplot as plt\n",
    "\n",
    "# Scatter plot for clusters with cluster centers\n",
    "plt.scatter(X_0[:, 0], X_0[:, 1], c=clustering.labels_, cmap='viridis')\n",
    "plt.scatter(cluster_centers[:, 0], cluster_centers[:, 1], s=200, color='red', marker='X')\n",
    "\n",
    "# Add cluster labels\n",
    "for i in range(len(cluster_centers)):\n",
    "    plt.text(cluster_centers[i, 0], cluster_centers[i, 1], f'Cluster {i}', fontsize=12, color='black')\n",
    "\n",
    "plt.xlabel(\"LEAF_LNGTH\")\n",
    "plt.ylabel(\"LEAF_CNT\")\n",
    "plt.title('MeanShift Clustering')\n",
    "plt.show()\n"
   ]
  },
  {
   "cell_type": "code",
   "execution_count": 82,
   "id": "c8755af1",
   "metadata": {},
   "outputs": [
    {
     "data": {
      "text/plain": [
       "array([0, 0, 0, 0, 0, 0, 0, 0, 0, 0, 0, 0, 0, 0, 0, 0, 0, 0, 0, 0, 0, 0,\n",
       "       0, 0, 0, 0, 0, 0, 0, 0, 0, 0, 0, 0, 0, 0, 0, 0, 2, 2, 2, 2, 2, 2,\n",
       "       2, 2, 2, 2, 2, 2, 2, 2, 2, 2, 2, 2, 2, 2, 2, 0, 0, 0, 0, 0, 0, 0,\n",
       "       0, 0, 0, 0, 0, 0, 0, 2, 2, 2, 2, 2, 2, 2, 2, 2, 2, 2, 2, 2, 2, 1,\n",
       "       1, 1, 1, 1, 1, 1, 1, 1, 1, 1, 1, 1, 1, 1, 1, 1, 1, 1, 1, 1, 1, 1,\n",
       "       1, 1, 1, 1, 1, 1, 1, 1, 1, 1, 1, 1, 1, 1, 1, 1, 1, 1, 3, 3, 3, 3,\n",
       "       3, 3, 3, 3, 0, 0, 0, 0, 0, 0, 0, 0, 0, 0, 0, 0, 0, 0, 0, 0, 0, 0,\n",
       "       0, 0, 0, 0, 0, 0, 0, 0, 0, 0, 0, 0, 0, 0, 0, 0, 0, 0, 0, 0, 0, 0,\n",
       "       0, 0, 0, 0, 0], dtype=int64)"
      ]
     },
     "execution_count": 82,
     "metadata": {},
     "output_type": "execute_result"
    }
   ],
   "source": [
    "clustering.labels_"
   ]
  },
  {
   "cell_type": "code",
   "execution_count": null,
   "id": "14f6ec30",
   "metadata": {},
   "outputs": [],
   "source": []
  }
 ],
 "metadata": {
  "kernelspec": {
   "display_name": "Python 3 (ipykernel)",
   "language": "python",
   "name": "python3"
  },
  "language_info": {
   "codemirror_mode": {
    "name": "ipython",
    "version": 3
   },
   "file_extension": ".py",
   "mimetype": "text/x-python",
   "name": "python",
   "nbconvert_exporter": "python",
   "pygments_lexer": "ipython3",
   "version": "3.9.7"
  }
 },
 "nbformat": 4,
 "nbformat_minor": 5
}
