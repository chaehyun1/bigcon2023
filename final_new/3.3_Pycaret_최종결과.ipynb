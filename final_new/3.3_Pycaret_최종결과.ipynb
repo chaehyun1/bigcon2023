{
 "cells": [
  {
   "cell_type": "code",
   "execution_count": 1,
   "id": "d332f522",
   "metadata": {},
   "outputs": [],
   "source": [
    "from pycaret.regression import *"
   ]
  },
  {
   "cell_type": "code",
   "execution_count": 2,
   "id": "581d4ac2",
   "metadata": {},
   "outputs": [],
   "source": [
    "import pandas as pd\n",
    "import numpy as np\n",
    "from sklearn.preprocessing import StandardScaler\n",
    "from sklearn.model_selection import train_test_split"
   ]
  },
  {
   "cell_type": "code",
   "execution_count": 3,
   "id": "3b76d454",
   "metadata": {},
   "outputs": [],
   "source": [
    "ver1 = pd.read_csv('0918_eda_one_hot.csv').drop(['STRG_DT'], axis=1)\n",
    "ver1_cont = ver1.drop(['cluster_1', 'cluster_2', 'cluster_3'], axis=1)\n",
    "ver1_cat = ver1[['cluster_1', 'cluster_2', 'cluster_3']]\n",
    "\n",
    "y_val = np.array(ver1_cont.iloc[:, 0]).reshape(-1, 1)\n",
    "x_val = ver1_cont.drop(['FRST_TREE_CNT'], axis=1)"
   ]
  },
  {
   "cell_type": "code",
   "execution_count": 4,
   "id": "aaf87667",
   "metadata": {},
   "outputs": [],
   "source": [
    "from sklearn.model_selection import train_test_split\n",
    "\n",
    "x_train_val, x_test_val = train_test_split(x_val, test_size= 0.2, shuffle = False)\n",
    "y_train_val, y_test_val = train_test_split(y_val, test_size= 0.2, shuffle = False)\n",
    "\n",
    "train_cat, test_cat = train_test_split(ver1_cat, test_size= 0.2, shuffle = False)\n",
    "test_cat = test_cat.reset_index().drop(['index'], axis=1)"
   ]
  },
  {
   "cell_type": "code",
   "execution_count": 5,
   "id": "2d4c20a3",
   "metadata": {},
   "outputs": [],
   "source": [
    "y_scaler = StandardScaler()\n",
    "y_train_scaled = y_scaler.fit_transform(y_train_val)\n",
    "y_test_scaled = y_scaler.transform(y_test_val)\n",
    "\n",
    "x_scaler = StandardScaler()\n",
    "x_train_scaled = x_scaler.fit_transform(x_train_val)\n",
    "x_test_scaled = x_scaler.transform(x_test_val)"
   ]
  },
  {
   "cell_type": "code",
   "execution_count": 6,
   "id": "08f4d5b0",
   "metadata": {},
   "outputs": [],
   "source": [
    "y_train_df = pd.DataFrame(y_train_scaled, columns = ['FRST_TREE_CNT'])\n",
    "x_train_df = pd.DataFrame(x_train_scaled, columns = x_val.columns)\n",
    "\n",
    "y_test_df = pd.DataFrame(y_test_scaled, columns = ['FRST_TREE_CNT'])\n",
    "x_test_df = pd.DataFrame(x_test_scaled, columns = x_val.columns)"
   ]
  },
  {
   "cell_type": "code",
   "execution_count": 7,
   "id": "50391030",
   "metadata": {},
   "outputs": [],
   "source": [
    "train_df = pd.concat([y_train_df, x_train_df, train_cat], axis=1)\n",
    "test_df = pd.concat([y_test_df, x_test_df, test_cat], axis=1)"
   ]
  },
  {
   "cell_type": "code",
   "execution_count": 8,
   "id": "ed5cb892",
   "metadata": {},
   "outputs": [],
   "source": [
    "df1 = pd.concat([train_df, test_df]).reset_index().drop(['index'], axis=1)"
   ]
  },
  {
   "cell_type": "code",
   "execution_count": 9,
   "id": "278c2a3b",
   "metadata": {},
   "outputs": [
    {
     "data": {
      "text/html": [
       "<style type=\"text/css\">\n",
       "#T_d2590_row8_col1 {\n",
       "  background-color: lightgreen;\n",
       "}\n",
       "</style>\n",
       "<table id=\"T_d2590_\">\n",
       "  <thead>\n",
       "    <tr>\n",
       "      <th class=\"blank level0\" >&nbsp;</th>\n",
       "      <th class=\"col_heading level0 col0\" >Description</th>\n",
       "      <th class=\"col_heading level0 col1\" >Value</th>\n",
       "    </tr>\n",
       "  </thead>\n",
       "  <tbody>\n",
       "    <tr>\n",
       "      <th id=\"T_d2590_level0_row0\" class=\"row_heading level0 row0\" >0</th>\n",
       "      <td id=\"T_d2590_row0_col0\" class=\"data row0 col0\" >Session id</td>\n",
       "      <td id=\"T_d2590_row0_col1\" class=\"data row0 col1\" >8220</td>\n",
       "    </tr>\n",
       "    <tr>\n",
       "      <th id=\"T_d2590_level0_row1\" class=\"row_heading level0 row1\" >1</th>\n",
       "      <td id=\"T_d2590_row1_col0\" class=\"data row1 col0\" >Target</td>\n",
       "      <td id=\"T_d2590_row1_col1\" class=\"data row1 col1\" >FRST_TREE_CNT</td>\n",
       "    </tr>\n",
       "    <tr>\n",
       "      <th id=\"T_d2590_level0_row2\" class=\"row_heading level0 row2\" >2</th>\n",
       "      <td id=\"T_d2590_row2_col0\" class=\"data row2 col0\" >Target type</td>\n",
       "      <td id=\"T_d2590_row2_col1\" class=\"data row2 col1\" >Regression</td>\n",
       "    </tr>\n",
       "    <tr>\n",
       "      <th id=\"T_d2590_level0_row3\" class=\"row_heading level0 row3\" >3</th>\n",
       "      <td id=\"T_d2590_row3_col0\" class=\"data row3 col0\" >Original data shape</td>\n",
       "      <td id=\"T_d2590_row3_col1\" class=\"data row3 col1\" >(26064, 11)</td>\n",
       "    </tr>\n",
       "    <tr>\n",
       "      <th id=\"T_d2590_level0_row4\" class=\"row_heading level0 row4\" >4</th>\n",
       "      <td id=\"T_d2590_row4_col0\" class=\"data row4 col0\" >Transformed data shape</td>\n",
       "      <td id=\"T_d2590_row4_col1\" class=\"data row4 col1\" >(26064, 11)</td>\n",
       "    </tr>\n",
       "    <tr>\n",
       "      <th id=\"T_d2590_level0_row5\" class=\"row_heading level0 row5\" >5</th>\n",
       "      <td id=\"T_d2590_row5_col0\" class=\"data row5 col0\" >Transformed train set shape</td>\n",
       "      <td id=\"T_d2590_row5_col1\" class=\"data row5 col1\" >(20851, 11)</td>\n",
       "    </tr>\n",
       "    <tr>\n",
       "      <th id=\"T_d2590_level0_row6\" class=\"row_heading level0 row6\" >6</th>\n",
       "      <td id=\"T_d2590_row6_col0\" class=\"data row6 col0\" >Transformed test set shape</td>\n",
       "      <td id=\"T_d2590_row6_col1\" class=\"data row6 col1\" >(5213, 11)</td>\n",
       "    </tr>\n",
       "    <tr>\n",
       "      <th id=\"T_d2590_level0_row7\" class=\"row_heading level0 row7\" >7</th>\n",
       "      <td id=\"T_d2590_row7_col0\" class=\"data row7 col0\" >Numeric features</td>\n",
       "      <td id=\"T_d2590_row7_col1\" class=\"data row7 col1\" >10</td>\n",
       "    </tr>\n",
       "    <tr>\n",
       "      <th id=\"T_d2590_level0_row8\" class=\"row_heading level0 row8\" >8</th>\n",
       "      <td id=\"T_d2590_row8_col0\" class=\"data row8 col0\" >Preprocess</td>\n",
       "      <td id=\"T_d2590_row8_col1\" class=\"data row8 col1\" >True</td>\n",
       "    </tr>\n",
       "    <tr>\n",
       "      <th id=\"T_d2590_level0_row9\" class=\"row_heading level0 row9\" >9</th>\n",
       "      <td id=\"T_d2590_row9_col0\" class=\"data row9 col0\" >Imputation type</td>\n",
       "      <td id=\"T_d2590_row9_col1\" class=\"data row9 col1\" >simple</td>\n",
       "    </tr>\n",
       "    <tr>\n",
       "      <th id=\"T_d2590_level0_row10\" class=\"row_heading level0 row10\" >10</th>\n",
       "      <td id=\"T_d2590_row10_col0\" class=\"data row10 col0\" >Numeric imputation</td>\n",
       "      <td id=\"T_d2590_row10_col1\" class=\"data row10 col1\" >mean</td>\n",
       "    </tr>\n",
       "    <tr>\n",
       "      <th id=\"T_d2590_level0_row11\" class=\"row_heading level0 row11\" >11</th>\n",
       "      <td id=\"T_d2590_row11_col0\" class=\"data row11 col0\" >Categorical imputation</td>\n",
       "      <td id=\"T_d2590_row11_col1\" class=\"data row11 col1\" >mode</td>\n",
       "    </tr>\n",
       "    <tr>\n",
       "      <th id=\"T_d2590_level0_row12\" class=\"row_heading level0 row12\" >12</th>\n",
       "      <td id=\"T_d2590_row12_col0\" class=\"data row12 col0\" >Fold Generator</td>\n",
       "      <td id=\"T_d2590_row12_col1\" class=\"data row12 col1\" >TimeSeriesSplit</td>\n",
       "    </tr>\n",
       "    <tr>\n",
       "      <th id=\"T_d2590_level0_row13\" class=\"row_heading level0 row13\" >13</th>\n",
       "      <td id=\"T_d2590_row13_col0\" class=\"data row13 col0\" >Fold Number</td>\n",
       "      <td id=\"T_d2590_row13_col1\" class=\"data row13 col1\" >10</td>\n",
       "    </tr>\n",
       "    <tr>\n",
       "      <th id=\"T_d2590_level0_row14\" class=\"row_heading level0 row14\" >14</th>\n",
       "      <td id=\"T_d2590_row14_col0\" class=\"data row14 col0\" >CPU Jobs</td>\n",
       "      <td id=\"T_d2590_row14_col1\" class=\"data row14 col1\" >-1</td>\n",
       "    </tr>\n",
       "    <tr>\n",
       "      <th id=\"T_d2590_level0_row15\" class=\"row_heading level0 row15\" >15</th>\n",
       "      <td id=\"T_d2590_row15_col0\" class=\"data row15 col0\" >Use GPU</td>\n",
       "      <td id=\"T_d2590_row15_col1\" class=\"data row15 col1\" >False</td>\n",
       "    </tr>\n",
       "    <tr>\n",
       "      <th id=\"T_d2590_level0_row16\" class=\"row_heading level0 row16\" >16</th>\n",
       "      <td id=\"T_d2590_row16_col0\" class=\"data row16 col0\" >Log Experiment</td>\n",
       "      <td id=\"T_d2590_row16_col1\" class=\"data row16 col1\" >False</td>\n",
       "    </tr>\n",
       "    <tr>\n",
       "      <th id=\"T_d2590_level0_row17\" class=\"row_heading level0 row17\" >17</th>\n",
       "      <td id=\"T_d2590_row17_col0\" class=\"data row17 col0\" >Experiment Name</td>\n",
       "      <td id=\"T_d2590_row17_col1\" class=\"data row17 col1\" >reg-default-name</td>\n",
       "    </tr>\n",
       "    <tr>\n",
       "      <th id=\"T_d2590_level0_row18\" class=\"row_heading level0 row18\" >18</th>\n",
       "      <td id=\"T_d2590_row18_col0\" class=\"data row18 col0\" >USI</td>\n",
       "      <td id=\"T_d2590_row18_col1\" class=\"data row18 col1\" >d4e4</td>\n",
       "    </tr>\n",
       "  </tbody>\n",
       "</table>\n"
      ],
      "text/plain": [
       "<pandas.io.formats.style.Styler at 0x19ebb061250>"
      ]
     },
     "metadata": {},
     "output_type": "display_data"
    }
   ],
   "source": [
    "model1 = setup(df1, target = 'FRST_TREE_CNT', train_size = 0.8, data_split_shuffle = False, fold_strategy='timeseries')"
   ]
  },
  {
   "cell_type": "code",
   "execution_count": 10,
   "id": "6d06c904",
   "metadata": {},
   "outputs": [
    {
     "name": "stdout",
     "output_type": "stream",
     "text": [
      "Transformation Pipeline and Model Successfully Loaded\n"
     ]
    }
   ],
   "source": [
    "Gradient_Boosting_EDA_TS = load_model('Gradient_Boosting_EDA_TS', platform = None, authentication = None, verbose=True)"
   ]
  },
  {
   "cell_type": "code",
   "execution_count": 19,
   "id": "de5cec0a",
   "metadata": {},
   "outputs": [
    {
     "data": {
      "text/html": [
       "<style type=\"text/css\">\n",
       "</style>\n",
       "<table id=\"T_263e2_\">\n",
       "  <thead>\n",
       "    <tr>\n",
       "      <th class=\"blank level0\" >&nbsp;</th>\n",
       "      <th class=\"col_heading level0 col0\" >Model</th>\n",
       "      <th class=\"col_heading level0 col1\" >MAE</th>\n",
       "      <th class=\"col_heading level0 col2\" >MSE</th>\n",
       "      <th class=\"col_heading level0 col3\" >RMSE</th>\n",
       "      <th class=\"col_heading level0 col4\" >R2</th>\n",
       "      <th class=\"col_heading level0 col5\" >RMSLE</th>\n",
       "      <th class=\"col_heading level0 col6\" >MAPE</th>\n",
       "    </tr>\n",
       "  </thead>\n",
       "  <tbody>\n",
       "    <tr>\n",
       "      <th id=\"T_263e2_level0_row0\" class=\"row_heading level0 row0\" >0</th>\n",
       "      <td id=\"T_263e2_row0_col0\" class=\"data row0 col0\" >Gradient Boosting Regressor</td>\n",
       "      <td id=\"T_263e2_row0_col1\" class=\"data row0 col1\" >0.0415</td>\n",
       "      <td id=\"T_263e2_row0_col2\" class=\"data row0 col2\" >0.0029</td>\n",
       "      <td id=\"T_263e2_row0_col3\" class=\"data row0 col3\" >0.0536</td>\n",
       "      <td id=\"T_263e2_row0_col4\" class=\"data row0 col4\" >0.8789</td>\n",
       "      <td id=\"T_263e2_row0_col5\" class=\"data row0 col5\" >0.0163</td>\n",
       "      <td id=\"T_263e2_row0_col6\" class=\"data row0 col6\" >0.0182</td>\n",
       "    </tr>\n",
       "  </tbody>\n",
       "</table>\n"
      ],
      "text/plain": [
       "<pandas.io.formats.style.Styler at 0x19ec16510a0>"
      ]
     },
     "metadata": {},
     "output_type": "display_data"
    },
    {
     "data": {
      "text/html": [
       "<div>\n",
       "<style scoped>\n",
       "    .dataframe tbody tr th:only-of-type {\n",
       "        vertical-align: middle;\n",
       "    }\n",
       "\n",
       "    .dataframe tbody tr th {\n",
       "        vertical-align: top;\n",
       "    }\n",
       "\n",
       "    .dataframe thead th {\n",
       "        text-align: right;\n",
       "    }\n",
       "</style>\n",
       "<table border=\"1\" class=\"dataframe\">\n",
       "  <thead>\n",
       "    <tr style=\"text-align: right;\">\n",
       "      <th></th>\n",
       "      <th>PFBS_NTRO_CBDX_CTRN</th>\n",
       "      <th>SPL_TPRT_1</th>\n",
       "      <th>HTNG_TPRT_1</th>\n",
       "      <th>SPL_TPRT_2</th>\n",
       "      <th>AVE_INNER_HMDT_1_2</th>\n",
       "      <th>SKLT_OPDR_RATE_1_RIGHT</th>\n",
       "      <th>GDD</th>\n",
       "      <th>cluster_1</th>\n",
       "      <th>cluster_2</th>\n",
       "      <th>cluster_3</th>\n",
       "      <th>FRST_TREE_CNT</th>\n",
       "      <th>prediction_label</th>\n",
       "    </tr>\n",
       "  </thead>\n",
       "  <tbody>\n",
       "    <tr>\n",
       "      <th>20851</th>\n",
       "      <td>-0.665490</td>\n",
       "      <td>0.964621</td>\n",
       "      <td>-1.859606</td>\n",
       "      <td>0.082599</td>\n",
       "      <td>-2.144250</td>\n",
       "      <td>0.232825</td>\n",
       "      <td>0.122240</td>\n",
       "      <td>0</td>\n",
       "      <td>0</td>\n",
       "      <td>1</td>\n",
       "      <td>-2.201073</td>\n",
       "      <td>-2.174110</td>\n",
       "    </tr>\n",
       "    <tr>\n",
       "      <th>20852</th>\n",
       "      <td>-0.676589</td>\n",
       "      <td>0.924656</td>\n",
       "      <td>-1.859606</td>\n",
       "      <td>0.067236</td>\n",
       "      <td>-2.123275</td>\n",
       "      <td>0.232825</td>\n",
       "      <td>0.122240</td>\n",
       "      <td>0</td>\n",
       "      <td>0</td>\n",
       "      <td>1</td>\n",
       "      <td>-2.201073</td>\n",
       "      <td>-2.169392</td>\n",
       "    </tr>\n",
       "    <tr>\n",
       "      <th>20853</th>\n",
       "      <td>-0.709887</td>\n",
       "      <td>0.871370</td>\n",
       "      <td>-1.859606</td>\n",
       "      <td>0.021144</td>\n",
       "      <td>-2.039375</td>\n",
       "      <td>0.278108</td>\n",
       "      <td>0.122240</td>\n",
       "      <td>0</td>\n",
       "      <td>0</td>\n",
       "      <td>1</td>\n",
       "      <td>-2.201073</td>\n",
       "      <td>-2.196422</td>\n",
       "    </tr>\n",
       "    <tr>\n",
       "      <th>20854</th>\n",
       "      <td>-0.665490</td>\n",
       "      <td>0.844727</td>\n",
       "      <td>-1.859606</td>\n",
       "      <td>0.021144</td>\n",
       "      <td>-1.976451</td>\n",
       "      <td>0.232825</td>\n",
       "      <td>0.122240</td>\n",
       "      <td>0</td>\n",
       "      <td>0</td>\n",
       "      <td>1</td>\n",
       "      <td>-2.201073</td>\n",
       "      <td>-2.177298</td>\n",
       "    </tr>\n",
       "    <tr>\n",
       "      <th>20855</th>\n",
       "      <td>-0.687689</td>\n",
       "      <td>0.818083</td>\n",
       "      <td>-1.859606</td>\n",
       "      <td>0.005780</td>\n",
       "      <td>-1.899542</td>\n",
       "      <td>0.232825</td>\n",
       "      <td>0.122240</td>\n",
       "      <td>0</td>\n",
       "      <td>0</td>\n",
       "      <td>1</td>\n",
       "      <td>-2.201073</td>\n",
       "      <td>-2.174998</td>\n",
       "    </tr>\n",
       "    <tr>\n",
       "      <th>...</th>\n",
       "      <td>...</td>\n",
       "      <td>...</td>\n",
       "      <td>...</td>\n",
       "      <td>...</td>\n",
       "      <td>...</td>\n",
       "      <td>...</td>\n",
       "      <td>...</td>\n",
       "      <td>...</td>\n",
       "      <td>...</td>\n",
       "      <td>...</td>\n",
       "      <td>...</td>\n",
       "      <td>...</td>\n",
       "    </tr>\n",
       "    <tr>\n",
       "      <th>26059</th>\n",
       "      <td>-0.432407</td>\n",
       "      <td>0.191968</td>\n",
       "      <td>-1.859606</td>\n",
       "      <td>-0.255404</td>\n",
       "      <td>0.128035</td>\n",
       "      <td>1.138482</td>\n",
       "      <td>-1.115531</td>\n",
       "      <td>0</td>\n",
       "      <td>0</td>\n",
       "      <td>1</td>\n",
       "      <td>-2.324533</td>\n",
       "      <td>-2.285530</td>\n",
       "    </tr>\n",
       "    <tr>\n",
       "      <th>26060</th>\n",
       "      <td>-0.432407</td>\n",
       "      <td>0.191968</td>\n",
       "      <td>-1.859606</td>\n",
       "      <td>-0.255404</td>\n",
       "      <td>0.156001</td>\n",
       "      <td>1.138482</td>\n",
       "      <td>-1.115531</td>\n",
       "      <td>0</td>\n",
       "      <td>0</td>\n",
       "      <td>1</td>\n",
       "      <td>-2.324533</td>\n",
       "      <td>-2.288230</td>\n",
       "    </tr>\n",
       "    <tr>\n",
       "      <th>26061</th>\n",
       "      <td>-0.410208</td>\n",
       "      <td>0.205289</td>\n",
       "      <td>-1.859606</td>\n",
       "      <td>-0.255404</td>\n",
       "      <td>0.176976</td>\n",
       "      <td>1.138482</td>\n",
       "      <td>-1.115531</td>\n",
       "      <td>0</td>\n",
       "      <td>0</td>\n",
       "      <td>1</td>\n",
       "      <td>-2.324533</td>\n",
       "      <td>-2.298243</td>\n",
       "    </tr>\n",
       "    <tr>\n",
       "      <th>26062</th>\n",
       "      <td>-0.365811</td>\n",
       "      <td>0.191968</td>\n",
       "      <td>-1.859606</td>\n",
       "      <td>-0.255404</td>\n",
       "      <td>0.204943</td>\n",
       "      <td>1.138482</td>\n",
       "      <td>-1.115531</td>\n",
       "      <td>0</td>\n",
       "      <td>0</td>\n",
       "      <td>1</td>\n",
       "      <td>-2.324533</td>\n",
       "      <td>-2.299307</td>\n",
       "    </tr>\n",
       "    <tr>\n",
       "      <th>26063</th>\n",
       "      <td>-0.321414</td>\n",
       "      <td>0.178646</td>\n",
       "      <td>-1.859606</td>\n",
       "      <td>-0.270767</td>\n",
       "      <td>0.253884</td>\n",
       "      <td>1.138482</td>\n",
       "      <td>-1.115531</td>\n",
       "      <td>0</td>\n",
       "      <td>0</td>\n",
       "      <td>1</td>\n",
       "      <td>-2.324533</td>\n",
       "      <td>-2.320214</td>\n",
       "    </tr>\n",
       "  </tbody>\n",
       "</table>\n",
       "<p>5213 rows × 12 columns</p>\n",
       "</div>"
      ],
      "text/plain": [
       "       PFBS_NTRO_CBDX_CTRN  SPL_TPRT_1  HTNG_TPRT_1  SPL_TPRT_2  \\\n",
       "20851            -0.665490    0.964621    -1.859606    0.082599   \n",
       "20852            -0.676589    0.924656    -1.859606    0.067236   \n",
       "20853            -0.709887    0.871370    -1.859606    0.021144   \n",
       "20854            -0.665490    0.844727    -1.859606    0.021144   \n",
       "20855            -0.687689    0.818083    -1.859606    0.005780   \n",
       "...                    ...         ...          ...         ...   \n",
       "26059            -0.432407    0.191968    -1.859606   -0.255404   \n",
       "26060            -0.432407    0.191968    -1.859606   -0.255404   \n",
       "26061            -0.410208    0.205289    -1.859606   -0.255404   \n",
       "26062            -0.365811    0.191968    -1.859606   -0.255404   \n",
       "26063            -0.321414    0.178646    -1.859606   -0.270767   \n",
       "\n",
       "       AVE_INNER_HMDT_1_2  SKLT_OPDR_RATE_1_RIGHT       GDD  cluster_1  \\\n",
       "20851           -2.144250                0.232825  0.122240          0   \n",
       "20852           -2.123275                0.232825  0.122240          0   \n",
       "20853           -2.039375                0.278108  0.122240          0   \n",
       "20854           -1.976451                0.232825  0.122240          0   \n",
       "20855           -1.899542                0.232825  0.122240          0   \n",
       "...                   ...                     ...       ...        ...   \n",
       "26059            0.128035                1.138482 -1.115531          0   \n",
       "26060            0.156001                1.138482 -1.115531          0   \n",
       "26061            0.176976                1.138482 -1.115531          0   \n",
       "26062            0.204943                1.138482 -1.115531          0   \n",
       "26063            0.253884                1.138482 -1.115531          0   \n",
       "\n",
       "       cluster_2  cluster_3  FRST_TREE_CNT  prediction_label  \n",
       "20851          0          1      -2.201073         -2.174110  \n",
       "20852          0          1      -2.201073         -2.169392  \n",
       "20853          0          1      -2.201073         -2.196422  \n",
       "20854          0          1      -2.201073         -2.177298  \n",
       "20855          0          1      -2.201073         -2.174998  \n",
       "...          ...        ...            ...               ...  \n",
       "26059          0          1      -2.324533         -2.285530  \n",
       "26060          0          1      -2.324533         -2.288230  \n",
       "26061          0          1      -2.324533         -2.298243  \n",
       "26062          0          1      -2.324533         -2.299307  \n",
       "26063          0          1      -2.324533         -2.320214  \n",
       "\n",
       "[5213 rows x 12 columns]"
      ]
     },
     "execution_count": 19,
     "metadata": {},
     "output_type": "execute_result"
    }
   ],
   "source": [
    "predict_model(Gradient_Boosting_EDA_TS)"
   ]
  },
  {
   "cell_type": "code",
   "execution_count": 45,
   "id": "dd5e8928",
   "metadata": {},
   "outputs": [],
   "source": [
    "y_train = get_config('y_train')\n",
    "y_test = get_config('y_test')"
   ]
  },
  {
   "cell_type": "code",
   "execution_count": 28,
   "id": "a1fcec55",
   "metadata": {},
   "outputs": [
    {
     "data": {
      "text/html": [
       "<style type=\"text/css\">\n",
       "</style>\n",
       "<table id=\"T_5d29b_\">\n",
       "  <thead>\n",
       "    <tr>\n",
       "      <th class=\"blank level0\" >&nbsp;</th>\n",
       "      <th class=\"col_heading level0 col0\" >Model</th>\n",
       "      <th class=\"col_heading level0 col1\" >MAE</th>\n",
       "      <th class=\"col_heading level0 col2\" >MSE</th>\n",
       "      <th class=\"col_heading level0 col3\" >RMSE</th>\n",
       "      <th class=\"col_heading level0 col4\" >R2</th>\n",
       "      <th class=\"col_heading level0 col5\" >RMSLE</th>\n",
       "      <th class=\"col_heading level0 col6\" >MAPE</th>\n",
       "    </tr>\n",
       "  </thead>\n",
       "  <tbody>\n",
       "    <tr>\n",
       "      <th id=\"T_5d29b_level0_row0\" class=\"row_heading level0 row0\" >0</th>\n",
       "      <td id=\"T_5d29b_row0_col0\" class=\"data row0 col0\" >Gradient Boosting Regressor</td>\n",
       "      <td id=\"T_5d29b_row0_col1\" class=\"data row0 col1\" >0.0995</td>\n",
       "      <td id=\"T_5d29b_row0_col2\" class=\"data row0 col2\" >0.0213</td>\n",
       "      <td id=\"T_5d29b_row0_col3\" class=\"data row0 col3\" >0.1461</td>\n",
       "      <td id=\"T_5d29b_row0_col4\" class=\"data row0 col4\" >0.9787</td>\n",
       "      <td id=\"T_5d29b_row0_col5\" class=\"data row0 col5\" >0.0801</td>\n",
       "      <td id=\"T_5d29b_row0_col6\" class=\"data row0 col6\" >0.4069</td>\n",
       "    </tr>\n",
       "  </tbody>\n",
       "</table>\n"
      ],
      "text/plain": [
       "<pandas.io.formats.style.Styler at 0x19ecb256d90>"
      ]
     },
     "metadata": {},
     "output_type": "display_data"
    }
   ],
   "source": [
    "train_pred = predict_model(Gradient_Boosting_EDA_TS, data = train_df)"
   ]
  },
  {
   "cell_type": "code",
   "execution_count": 30,
   "id": "6891d960",
   "metadata": {},
   "outputs": [
    {
     "data": {
      "text/html": [
       "<style type=\"text/css\">\n",
       "</style>\n",
       "<table id=\"T_c3df8_\">\n",
       "  <thead>\n",
       "    <tr>\n",
       "      <th class=\"blank level0\" >&nbsp;</th>\n",
       "      <th class=\"col_heading level0 col0\" >Model</th>\n",
       "      <th class=\"col_heading level0 col1\" >MAE</th>\n",
       "      <th class=\"col_heading level0 col2\" >MSE</th>\n",
       "      <th class=\"col_heading level0 col3\" >RMSE</th>\n",
       "      <th class=\"col_heading level0 col4\" >R2</th>\n",
       "      <th class=\"col_heading level0 col5\" >RMSLE</th>\n",
       "      <th class=\"col_heading level0 col6\" >MAPE</th>\n",
       "    </tr>\n",
       "  </thead>\n",
       "  <tbody>\n",
       "    <tr>\n",
       "      <th id=\"T_c3df8_level0_row0\" class=\"row_heading level0 row0\" >0</th>\n",
       "      <td id=\"T_c3df8_row0_col0\" class=\"data row0 col0\" >Gradient Boosting Regressor</td>\n",
       "      <td id=\"T_c3df8_row0_col1\" class=\"data row0 col1\" >0.0415</td>\n",
       "      <td id=\"T_c3df8_row0_col2\" class=\"data row0 col2\" >0.0029</td>\n",
       "      <td id=\"T_c3df8_row0_col3\" class=\"data row0 col3\" >0.0536</td>\n",
       "      <td id=\"T_c3df8_row0_col4\" class=\"data row0 col4\" >0.8789</td>\n",
       "      <td id=\"T_c3df8_row0_col5\" class=\"data row0 col5\" >0.0163</td>\n",
       "      <td id=\"T_c3df8_row0_col6\" class=\"data row0 col6\" >0.0182</td>\n",
       "    </tr>\n",
       "  </tbody>\n",
       "</table>\n"
      ],
      "text/plain": [
       "<pandas.io.formats.style.Styler at 0x19ec960c100>"
      ]
     },
     "metadata": {},
     "output_type": "display_data"
    }
   ],
   "source": [
    "test_pred = predict_model(Gradient_Boosting_EDA_TS)"
   ]
  },
  {
   "cell_type": "code",
   "execution_count": 32,
   "id": "746b6b82",
   "metadata": {},
   "outputs": [],
   "source": [
    "p_train = train_pred['prediction_label']\n",
    "p_test = test_pred['prediction_label']"
   ]
  },
  {
   "cell_type": "code",
   "execution_count": 49,
   "id": "a3a55ce4",
   "metadata": {},
   "outputs": [],
   "source": [
    "train = pd.DataFrame([p_train, y_train]).T"
   ]
  },
  {
   "cell_type": "code",
   "execution_count": 46,
   "id": "7786ac61",
   "metadata": {},
   "outputs": [],
   "source": [
    "test = pd.DataFrame([p_test, y_test]).T"
   ]
  },
  {
   "cell_type": "code",
   "execution_count": 50,
   "id": "b4acfc6b",
   "metadata": {},
   "outputs": [],
   "source": [
    "total = pd.concat([train, test])"
   ]
  },
  {
   "cell_type": "code",
   "execution_count": 51,
   "id": "c935c2e9",
   "metadata": {},
   "outputs": [
    {
     "data": {
      "text/html": [
       "<div>\n",
       "<style scoped>\n",
       "    .dataframe tbody tr th:only-of-type {\n",
       "        vertical-align: middle;\n",
       "    }\n",
       "\n",
       "    .dataframe tbody tr th {\n",
       "        vertical-align: top;\n",
       "    }\n",
       "\n",
       "    .dataframe thead th {\n",
       "        text-align: right;\n",
       "    }\n",
       "</style>\n",
       "<table border=\"1\" class=\"dataframe\">\n",
       "  <thead>\n",
       "    <tr style=\"text-align: right;\">\n",
       "      <th></th>\n",
       "      <th>prediction_label</th>\n",
       "      <th>FRST_TREE_CNT</th>\n",
       "    </tr>\n",
       "  </thead>\n",
       "  <tbody>\n",
       "    <tr>\n",
       "      <th>0</th>\n",
       "      <td>0.032860</td>\n",
       "      <td>-0.102251</td>\n",
       "    </tr>\n",
       "    <tr>\n",
       "      <th>1</th>\n",
       "      <td>-0.084028</td>\n",
       "      <td>-0.102251</td>\n",
       "    </tr>\n",
       "    <tr>\n",
       "      <th>2</th>\n",
       "      <td>-0.082385</td>\n",
       "      <td>-0.102251</td>\n",
       "    </tr>\n",
       "    <tr>\n",
       "      <th>3</th>\n",
       "      <td>-0.099969</td>\n",
       "      <td>-0.102251</td>\n",
       "    </tr>\n",
       "    <tr>\n",
       "      <th>4</th>\n",
       "      <td>-0.044110</td>\n",
       "      <td>-0.102251</td>\n",
       "    </tr>\n",
       "    <tr>\n",
       "      <th>...</th>\n",
       "      <td>...</td>\n",
       "      <td>...</td>\n",
       "    </tr>\n",
       "    <tr>\n",
       "      <th>26059</th>\n",
       "      <td>-2.285530</td>\n",
       "      <td>-2.324533</td>\n",
       "    </tr>\n",
       "    <tr>\n",
       "      <th>26060</th>\n",
       "      <td>-2.288230</td>\n",
       "      <td>-2.324533</td>\n",
       "    </tr>\n",
       "    <tr>\n",
       "      <th>26061</th>\n",
       "      <td>-2.298243</td>\n",
       "      <td>-2.324533</td>\n",
       "    </tr>\n",
       "    <tr>\n",
       "      <th>26062</th>\n",
       "      <td>-2.299307</td>\n",
       "      <td>-2.324533</td>\n",
       "    </tr>\n",
       "    <tr>\n",
       "      <th>26063</th>\n",
       "      <td>-2.320214</td>\n",
       "      <td>-2.324533</td>\n",
       "    </tr>\n",
       "  </tbody>\n",
       "</table>\n",
       "<p>26064 rows × 2 columns</p>\n",
       "</div>"
      ],
      "text/plain": [
       "       prediction_label  FRST_TREE_CNT\n",
       "0              0.032860      -0.102251\n",
       "1             -0.084028      -0.102251\n",
       "2             -0.082385      -0.102251\n",
       "3             -0.099969      -0.102251\n",
       "4             -0.044110      -0.102251\n",
       "...                 ...            ...\n",
       "26059         -2.285530      -2.324533\n",
       "26060         -2.288230      -2.324533\n",
       "26061         -2.298243      -2.324533\n",
       "26062         -2.299307      -2.324533\n",
       "26063         -2.320214      -2.324533\n",
       "\n",
       "[26064 rows x 2 columns]"
      ]
     },
     "execution_count": 51,
     "metadata": {},
     "output_type": "execute_result"
    }
   ],
   "source": [
    "total"
   ]
  },
  {
   "cell_type": "code",
   "execution_count": 64,
   "id": "7744e2d4",
   "metadata": {},
   "outputs": [],
   "source": [
    "date_df = pd.read_csv('0918_eda_one_hot.csv')"
   ]
  },
  {
   "cell_type": "code",
   "execution_count": 67,
   "id": "f28f41fa",
   "metadata": {},
   "outputs": [],
   "source": [
    "total['STRG_DT'] = date_df['STRG_DT']"
   ]
  },
  {
   "cell_type": "code",
   "execution_count": 69,
   "id": "f950f5ce",
   "metadata": {},
   "outputs": [],
   "source": [
    "total['STRG_DT'] = pd.to_datetime(total['STRG_DT'])\n",
    "total.set_index('STRG_DT', inplace=True)"
   ]
  },
  {
   "cell_type": "code",
   "execution_count": 70,
   "id": "d243208e",
   "metadata": {},
   "outputs": [],
   "source": [
    "daily_mean = total.groupby(total.index.date).mean()"
   ]
  },
  {
   "cell_type": "code",
   "execution_count": 71,
   "id": "278dd79e",
   "metadata": {},
   "outputs": [
    {
     "data": {
      "text/html": [
       "<div>\n",
       "<style scoped>\n",
       "    .dataframe tbody tr th:only-of-type {\n",
       "        vertical-align: middle;\n",
       "    }\n",
       "\n",
       "    .dataframe tbody tr th {\n",
       "        vertical-align: top;\n",
       "    }\n",
       "\n",
       "    .dataframe thead th {\n",
       "        text-align: right;\n",
       "    }\n",
       "</style>\n",
       "<table border=\"1\" class=\"dataframe\">\n",
       "  <thead>\n",
       "    <tr style=\"text-align: right;\">\n",
       "      <th></th>\n",
       "      <th>prediction_label</th>\n",
       "      <th>FRST_TREE_CNT</th>\n",
       "    </tr>\n",
       "  </thead>\n",
       "  <tbody>\n",
       "    <tr>\n",
       "      <th>2022-01-01</th>\n",
       "      <td>-0.093566</td>\n",
       "      <td>-0.102251</td>\n",
       "    </tr>\n",
       "    <tr>\n",
       "      <th>2022-01-02</th>\n",
       "      <td>-0.049406</td>\n",
       "      <td>-0.102251</td>\n",
       "    </tr>\n",
       "    <tr>\n",
       "      <th>2022-01-03</th>\n",
       "      <td>-0.071014</td>\n",
       "      <td>-0.102251</td>\n",
       "    </tr>\n",
       "    <tr>\n",
       "      <th>2022-01-04</th>\n",
       "      <td>-0.114666</td>\n",
       "      <td>-0.102251</td>\n",
       "    </tr>\n",
       "    <tr>\n",
       "      <th>2022-01-05</th>\n",
       "      <td>-0.061090</td>\n",
       "      <td>-0.102251</td>\n",
       "    </tr>\n",
       "    <tr>\n",
       "      <th>...</th>\n",
       "      <td>...</td>\n",
       "      <td>...</td>\n",
       "    </tr>\n",
       "    <tr>\n",
       "      <th>2022-06-26</th>\n",
       "      <td>-2.280755</td>\n",
       "      <td>-2.324533</td>\n",
       "    </tr>\n",
       "    <tr>\n",
       "      <th>2022-06-27</th>\n",
       "      <td>-2.302286</td>\n",
       "      <td>-2.324533</td>\n",
       "    </tr>\n",
       "    <tr>\n",
       "      <th>2022-06-28</th>\n",
       "      <td>-2.296145</td>\n",
       "      <td>-2.324533</td>\n",
       "    </tr>\n",
       "    <tr>\n",
       "      <th>2022-06-29</th>\n",
       "      <td>-2.324846</td>\n",
       "      <td>-2.324533</td>\n",
       "    </tr>\n",
       "    <tr>\n",
       "      <th>2022-06-30</th>\n",
       "      <td>-2.317046</td>\n",
       "      <td>-2.324533</td>\n",
       "    </tr>\n",
       "  </tbody>\n",
       "</table>\n",
       "<p>181 rows × 2 columns</p>\n",
       "</div>"
      ],
      "text/plain": [
       "            prediction_label  FRST_TREE_CNT\n",
       "2022-01-01         -0.093566      -0.102251\n",
       "2022-01-02         -0.049406      -0.102251\n",
       "2022-01-03         -0.071014      -0.102251\n",
       "2022-01-04         -0.114666      -0.102251\n",
       "2022-01-05         -0.061090      -0.102251\n",
       "...                      ...            ...\n",
       "2022-06-26         -2.280755      -2.324533\n",
       "2022-06-27         -2.302286      -2.324533\n",
       "2022-06-28         -2.296145      -2.324533\n",
       "2022-06-29         -2.324846      -2.324533\n",
       "2022-06-30         -2.317046      -2.324533\n",
       "\n",
       "[181 rows x 2 columns]"
      ]
     },
     "execution_count": 71,
     "metadata": {},
     "output_type": "execute_result"
    }
   ],
   "source": [
    "daily_mean"
   ]
  },
  {
   "cell_type": "code",
   "execution_count": 74,
   "id": "fbfaf3de",
   "metadata": {},
   "outputs": [],
   "source": [
    "scale_pred = np.array(daily_mean.iloc[:, 0]).reshape(-1, 1)"
   ]
  },
  {
   "cell_type": "code",
   "execution_count": 83,
   "id": "e66ed341",
   "metadata": {},
   "outputs": [],
   "source": [
    "scale_true = np.array(daily_mean.iloc[:, 1]).reshape(-1, 1)"
   ]
  },
  {
   "cell_type": "code",
   "execution_count": 86,
   "id": "39e32be4",
   "metadata": {},
   "outputs": [],
   "source": [
    "pred = y_scaler.inverse_transform(scale_pred)\n",
    "true = y_scaler.inverse_transform(scale_true)"
   ]
  },
  {
   "cell_type": "code",
   "execution_count": 93,
   "id": "49cf4b52",
   "metadata": {},
   "outputs": [],
   "source": [
    "df = pd.concat([pd.DataFrame(pred), pd.DataFrame(true)], axis = 1)"
   ]
  },
  {
   "cell_type": "code",
   "execution_count": 94,
   "id": "6d0ff569",
   "metadata": {},
   "outputs": [],
   "source": [
    "df.columns = ['pred', 'true']"
   ]
  },
  {
   "cell_type": "code",
   "execution_count": 114,
   "id": "a5f44c07",
   "metadata": {},
   "outputs": [],
   "source": [
    "train_rs = df.loc[:144]"
   ]
  },
  {
   "cell_type": "code",
   "execution_count": 110,
   "id": "00b54dfe",
   "metadata": {},
   "outputs": [],
   "source": [
    "test_rs = df.loc[144: ]"
   ]
  },
  {
   "cell_type": "code",
   "execution_count": 117,
   "id": "e7e1a811",
   "metadata": {},
   "outputs": [],
   "source": [
    "train_rs['error'] = train_rs['true'] - train_rs['pred']\n",
    "test_rs['error'] = test_rs['true'] - test_rs['pred']"
   ]
  },
  {
   "cell_type": "code",
   "execution_count": 120,
   "id": "320052d8",
   "metadata": {},
   "outputs": [],
   "source": [
    "from sklearn.metrics import mean_squared_error, r2_score\n",
    "\n",
    "train_rmse = np.sqrt(mean_squared_error(train_rs['true'], train_rs['pred']))\n",
    "train_r2 = r2_score(train_rs['true'], train_rs['pred'])\n",
    "train_score = [train_rmse, train_r2]"
   ]
  },
  {
   "cell_type": "code",
   "execution_count": 121,
   "id": "72aaf59c",
   "metadata": {},
   "outputs": [
    {
     "data": {
      "text/plain": [
       "[0.2158564679762883, 0.9886969794896554]"
      ]
     },
     "execution_count": 121,
     "metadata": {},
     "output_type": "execute_result"
    }
   ],
   "source": [
    "train_score"
   ]
  },
  {
   "cell_type": "code",
   "execution_count": 122,
   "id": "8836678e",
   "metadata": {},
   "outputs": [],
   "source": [
    "test_rmse = np.sqrt(mean_squared_error(test_rs['true'], test_rs['pred']))\n",
    "test_r2 = r2_score(test_rs['true'], test_rs['pred'])\n",
    "test_score = [test_rmse, test_r2]"
   ]
  },
  {
   "cell_type": "code",
   "execution_count": 124,
   "id": "b233d83f",
   "metadata": {},
   "outputs": [
    {
     "data": {
      "text/plain": [
       "[0.08425723000038587, 0.9259687122447863]"
      ]
     },
     "execution_count": 124,
     "metadata": {},
     "output_type": "execute_result"
    }
   ],
   "source": [
    "test_score"
   ]
  },
  {
   "cell_type": "code",
   "execution_count": 140,
   "id": "7e629c2d",
   "metadata": {},
   "outputs": [
    {
     "data": {
      "text/plain": [
       "<AxesSubplot:>"
      ]
     },
     "execution_count": 140,
     "metadata": {},
     "output_type": "execute_result"
    },
    {
     "data": {
      "image/png": "[encoded data removed]",
      "text/plain": [
       "<Figure size 1080x504 with 1 Axes>"
      ]
     },
     "metadata": {
      "needs_background": "light"
     },
     "output_type": "display_data"
    }
   ],
   "source": [
    "import matplotlib.pyplot as plt\n",
    "\n",
    "train_gp = train_rs[['pred', 'true']]\n",
    "train_gp.plot(figsize = (15, 7), linewidth = 4)"
   ]
  },
  {
   "cell_type": "code",
   "execution_count": 139,
   "id": "5b584028",
   "metadata": {},
   "outputs": [
    {
     "data": {
      "text/plain": [
       "<AxesSubplot:>"
      ]
     },
     "execution_count": 139,
     "metadata": {},
     "output_type": "execute_result"
    },
    {
     "data": {
      "image/png": "[encoded data removed]",
      "text/plain": [
       "<Figure size 1080x360 with 1 Axes>"
      ]
     },
     "metadata": {
      "needs_background": "light"
     },
     "output_type": "display_data"
    }
   ],
   "source": [
    "test_gp = test_rs[['pred', 'true']]\n",
    "test_gp.plot(figsize = (15, 5), linewidth = 4)"
   ]
  }
 ],
 "metadata": {
  "kernelspec": {
   "display_name": "Python 3 (ipykernel)",
   "language": "python",
   "name": "python3"
  },
  "language_info": {
   "codemirror_mode": {
    "name": "ipython",
    "version": 3
   },
   "file_extension": ".py",
   "mimetype": "text/x-python",
   "name": "python",
   "nbconvert_exporter": "python",
   "pygments_lexer": "ipython3",
   "version": "3.9.7"
  }
 },
 "nbformat": 4,
 "nbformat_minor": 5
}
