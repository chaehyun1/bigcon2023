{
 "cells": [
  {
   "cell_type": "code",
   "execution_count": 1,
   "id": "7ba5b455",
   "metadata": {},
   "outputs": [],
   "source": [
    "import pandas as pd\n",
    "import numpy as np\n",
    "import matplotlib.pyplot as plt"
   ]
  },
  {
   "cell_type": "code",
   "execution_count": 2,
   "id": "fc537ac8",
   "metadata": {},
   "outputs": [],
   "source": [
    "import torch \n",
    "import torch.optim as optim\n",
    "import torch.nn as nn\n",
    "\n",
    "from torch.utils.data import DataLoader, TensorDataset\n",
    "from sklearn.preprocessing import StandardScaler\n",
    "from sklearn.metrics import mean_squared_error "
   ]
  },
  {
   "cell_type": "code",
   "execution_count": 3,
   "id": "5c3777e6",
   "metadata": {},
   "outputs": [],
   "source": [
    "df = pd.read_csv('C:/Users/chaeh/bigcon/dataset/0910 착과수_컬럼추가.csv') #착과수"
   ]
  },
  {
   "cell_type": "code",
   "execution_count": 4,
   "id": "fd77ccb0",
   "metadata": {},
   "outputs": [
    {
     "data": {
      "image/png": "[encoded data removed]",
      "text/plain": [
       "<Figure size 2000x500 with 1 Axes>"
      ]
     },
     "metadata": {},
     "output_type": "display_data"
    }
   ],
   "source": [
    "#착과수 추이\n",
    "plt.figure(figsize=(20,5))\n",
    "plt.plot(range(len(df)), df[\"FRST_TREE_CNT\"])\n",
    "plt.show()"
   ]
  },
  {
   "cell_type": "code",
   "execution_count": 5,
   "id": "0b896bc6",
   "metadata": {},
   "outputs": [
    {
     "data": {
      "text/html": [
       "<div>\n",
       "<style scoped>\n",
       "    .dataframe tbody tr th:only-of-type {\n",
       "        vertical-align: middle;\n",
       "    }\n",
       "\n",
       "    .dataframe tbody tr th {\n",
       "        vertical-align: top;\n",
       "    }\n",
       "\n",
       "    .dataframe thead th {\n",
       "        text-align: right;\n",
       "    }\n",
       "</style>\n",
       "<table border=\"1\" class=\"dataframe\">\n",
       "  <thead>\n",
       "    <tr style=\"text-align: right;\">\n",
       "      <th></th>\n",
       "      <th>STRG_DT</th>\n",
       "      <th>FRST_TREE_CNT</th>\n",
       "      <th>PFBS_NTRO_CBDX_CTRN</th>\n",
       "      <th>EXTN_TPRT</th>\n",
       "      <th>ABSLT_HMDT</th>\n",
       "      <th>EXTN_SRQT</th>\n",
       "      <th>WATER_LACK_VL</th>\n",
       "      <th>SPL_TPRT_1</th>\n",
       "      <th>HTNG_TPRT_1</th>\n",
       "      <th>SPL_TPRT_2</th>\n",
       "      <th>AVE_INNER_HMDT_1_2</th>\n",
       "      <th>SKLT_OPDR_RATE_1_RIGHT</th>\n",
       "      <th>GDD</th>\n",
       "    </tr>\n",
       "  </thead>\n",
       "  <tbody>\n",
       "    <tr>\n",
       "      <th>0</th>\n",
       "      <td>2022-01-01 0:00</td>\n",
       "      <td>5.0</td>\n",
       "      <td>456</td>\n",
       "      <td>-2.2</td>\n",
       "      <td>8.3</td>\n",
       "      <td>0</td>\n",
       "      <td>0.9</td>\n",
       "      <td>30.6</td>\n",
       "      <td>9.0</td>\n",
       "      <td>10.0</td>\n",
       "      <td>92.0</td>\n",
       "      <td>0</td>\n",
       "      <td>1.35</td>\n",
       "    </tr>\n",
       "    <tr>\n",
       "      <th>1</th>\n",
       "      <td>2022-01-01 0:10</td>\n",
       "      <td>5.0</td>\n",
       "      <td>459</td>\n",
       "      <td>-2.2</td>\n",
       "      <td>8.6</td>\n",
       "      <td>0</td>\n",
       "      <td>0.8</td>\n",
       "      <td>37.2</td>\n",
       "      <td>9.0</td>\n",
       "      <td>10.3</td>\n",
       "      <td>92.0</td>\n",
       "      <td>0</td>\n",
       "      <td>1.35</td>\n",
       "    </tr>\n",
       "    <tr>\n",
       "      <th>2</th>\n",
       "      <td>2022-01-01 0:20</td>\n",
       "      <td>5.0</td>\n",
       "      <td>468</td>\n",
       "      <td>-2.2</td>\n",
       "      <td>8.6</td>\n",
       "      <td>0</td>\n",
       "      <td>0.9</td>\n",
       "      <td>34.8</td>\n",
       "      <td>9.0</td>\n",
       "      <td>10.5</td>\n",
       "      <td>90.2</td>\n",
       "      <td>0</td>\n",
       "      <td>1.35</td>\n",
       "    </tr>\n",
       "    <tr>\n",
       "      <th>3</th>\n",
       "      <td>2022-01-01 0:30</td>\n",
       "      <td>5.0</td>\n",
       "      <td>466</td>\n",
       "      <td>-2.3</td>\n",
       "      <td>8.7</td>\n",
       "      <td>0</td>\n",
       "      <td>0.7</td>\n",
       "      <td>33.6</td>\n",
       "      <td>9.0</td>\n",
       "      <td>10.4</td>\n",
       "      <td>91.4</td>\n",
       "      <td>0</td>\n",
       "      <td>1.35</td>\n",
       "    </tr>\n",
       "    <tr>\n",
       "      <th>4</th>\n",
       "      <td>2022-01-01 0:40</td>\n",
       "      <td>5.0</td>\n",
       "      <td>467</td>\n",
       "      <td>-2.3</td>\n",
       "      <td>8.7</td>\n",
       "      <td>0</td>\n",
       "      <td>0.6</td>\n",
       "      <td>33.4</td>\n",
       "      <td>9.0</td>\n",
       "      <td>10.1</td>\n",
       "      <td>95.1</td>\n",
       "      <td>0</td>\n",
       "      <td>1.35</td>\n",
       "    </tr>\n",
       "  </tbody>\n",
       "</table>\n",
       "</div>"
      ],
      "text/plain": [
       "           STRG_DT  FRST_TREE_CNT  PFBS_NTRO_CBDX_CTRN  EXTN_TPRT  ABSLT_HMDT   \n",
       "0  2022-01-01 0:00            5.0                  456       -2.2         8.3  \\\n",
       "1  2022-01-01 0:10            5.0                  459       -2.2         8.6   \n",
       "2  2022-01-01 0:20            5.0                  468       -2.2         8.6   \n",
       "3  2022-01-01 0:30            5.0                  466       -2.3         8.7   \n",
       "4  2022-01-01 0:40            5.0                  467       -2.3         8.7   \n",
       "\n",
       "   EXTN_SRQT  WATER_LACK_VL  SPL_TPRT_1  HTNG_TPRT_1  SPL_TPRT_2   \n",
       "0          0            0.9        30.6          9.0        10.0  \\\n",
       "1          0            0.8        37.2          9.0        10.3   \n",
       "2          0            0.9        34.8          9.0        10.5   \n",
       "3          0            0.7        33.6          9.0        10.4   \n",
       "4          0            0.6        33.4          9.0        10.1   \n",
       "\n",
       "   AVE_INNER_HMDT_1_2  SKLT_OPDR_RATE_1_RIGHT   GDD  \n",
       "0                92.0                       0  1.35  \n",
       "1                92.0                       0  1.35  \n",
       "2                90.2                       0  1.35  \n",
       "3                91.4                       0  1.35  \n",
       "4                95.1                       0  1.35  "
      ]
     },
     "execution_count": 5,
     "metadata": {},
     "output_type": "execute_result"
    }
   ],
   "source": [
    "df.head()"
   ]
  },
  {
   "cell_type": "code",
   "execution_count": 6,
   "id": "01e55212",
   "metadata": {},
   "outputs": [],
   "source": [
    "df = df.drop(columns=['EXTN_TPRT', 'ABSLT_HMDT', 'EXTN_SRQT', 'WATER_LACK_VL'])"
   ]
  },
  {
   "cell_type": "code",
   "execution_count": 7,
   "id": "8dc44a59",
   "metadata": {},
   "outputs": [
    {
     "data": {
      "text/plain": [
       "(26064, 9)"
      ]
     },
     "execution_count": 7,
     "metadata": {},
     "output_type": "execute_result"
    }
   ],
   "source": [
    "df.shape"
   ]
  },
  {
   "cell_type": "code",
   "execution_count": 8,
   "id": "cdf3deaf",
   "metadata": {},
   "outputs": [
    {
     "data": {
      "text/plain": [
       "Index(['STRG_DT', 'FRST_TREE_CNT', 'PFBS_NTRO_CBDX_CTRN', 'SPL_TPRT_1',\n",
       "       'HTNG_TPRT_1', 'SPL_TPRT_2', 'AVE_INNER_HMDT_1_2',\n",
       "       'SKLT_OPDR_RATE_1_RIGHT', 'GDD'],\n",
       "      dtype='object')"
      ]
     },
     "execution_count": 8,
     "metadata": {},
     "output_type": "execute_result"
    }
   ],
   "source": [
    "df.columns"
   ]
  },
  {
   "cell_type": "code",
   "execution_count": 9,
   "id": "87992f69",
   "metadata": {},
   "outputs": [
    {
     "data": {
      "text/plain": [
       "<torch._C.Generator at 0x1a9445f60f0>"
      ]
     },
     "execution_count": 9,
     "metadata": {},
     "output_type": "execute_result"
    }
   ],
   "source": [
    "torch.manual_seed(0) #학습을 다시 수행 시 실헙을 동일하게 진행하기 위해서 난수를 동일하게 생성"
   ]
  },
  {
   "cell_type": "code",
   "execution_count": 10,
   "id": "af513ea0",
   "metadata": {},
   "outputs": [],
   "source": [
    "# GPU 설정\n",
    "device = torch.device(\"cuda:0\" if torch.cuda.is_available() else \"cpu\")"
   ]
  },
  {
   "cell_type": "code",
   "execution_count": 11,
   "id": "5d0c6440",
   "metadata": {},
   "outputs": [],
   "source": [
    "# 파라미터 초기화\n",
    "seq_length = 144 #6*24 -> 하루 단위\n",
    "data_dim = 8 #전체 feature 개수\n",
    "hidden_dim = 10\n",
    "output_dim = 1\n",
    "learning_rate = 0.001 \n",
    "epochs = 500\n",
    "batch_size = 128"
   ]
  },
  {
   "cell_type": "code",
   "execution_count": 12,
   "id": "d7cbef8a",
   "metadata": {},
   "outputs": [],
   "source": [
    "#학습 데이터 셋 생성\n",
    "def make_dataset(data, seq_len):\n",
    "    data_X = []\n",
    "    data_Y = []\n",
    "    \n",
    "    #sequence 데이터 생성\n",
    "    for i in range(len(data)-seq_len):\n",
    "        x = data[i:i+seq_len, :] #0~143, 1~144, ...\n",
    "        y = data[i+seq_len, [-1]] #0~143, 1~144, ...\n",
    "        data_X.append(x)\n",
    "        data_Y.append(y)\n",
    "    \n",
    "    return np.array(data_X), np.array(data_Y)\n",
    "\n",
    "#필요한 컬럼만 선택\n",
    "df = df[['PFBS_NTRO_CBDX_CTRN', 'SPL_TPRT_1', 'HTNG_TPRT_1',\n",
    "       'SPL_TPRT_2', 'AVE_INNER_HMDT_1_2', 'SKLT_OPDR_RATE_1_RIGHT', 'GDD', 'FRST_TREE_CNT']]\n",
    "\n",
    "#train/test 분리\n",
    "train_size = int(len(df)*0.8) #하반기 0.2\n",
    "train_set = df[0:train_size]\n",
    "test_set = df[train_size:] #train_size - seq_length"
   ]
  },
  {
   "cell_type": "code",
   "execution_count": 13,
   "id": "127e48b6",
   "metadata": {},
   "outputs": [],
   "source": [
    "#scaling\n",
    "train_set = train_set.copy() #deepcopy 원리\n",
    "test_set = test_set.copy()\n",
    "\n",
    "scaler_x = StandardScaler()\n",
    "scaler_x.fit(train_set.iloc[:,:-1])\n",
    "\n",
    "train_set.iloc[:,:-1] = scaler_x.transform(train_set.iloc[:,:-1])\n",
    "test_set.iloc[:,:-1] = scaler_x.transform(test_set.iloc[:,:-1])\n",
    "\n",
    "scaler_y = StandardScaler()\n",
    "scaler_y.fit(train_set.iloc[:,[-1]])\n",
    "\n",
    "train_set.iloc[:,-1] = scaler_y.transform(train_set.iloc[:,[-1]])\n",
    "test_set.iloc[:,-1] = scaler_y.transform(test_set.iloc[:,[-1]])\n",
    "\n",
    "trainX, trainY = make_dataset(np.array(train_set), seq_length) #sequence 데이터로 생성\n",
    "testX, testY = make_dataset(np.array(test_set), seq_length)"
   ]
  },
  {
   "cell_type": "code",
   "execution_count": 14,
   "id": "1dda1463",
   "metadata": {},
   "outputs": [],
   "source": [
    "#사용하는 device로 적용, numpy를 tensor로 바꾸기 \n",
    "trainX_tensor = torch.FloatTensor(trainX).to(device)\n",
    "trainY_tensor = torch.FloatTensor(trainY).to(device)\n",
    "\n",
    "testX_tensor = torch.FloatTensor(testX).to(device)\n",
    "testY_tensor = torch.FloatTensor(testY).to(device)\n",
    "\n",
    "#TensorDataset은 학습 데이터 X와 레이블 Y를 묶어 놓은 컨테이너\n",
    "dataset = TensorDataset(trainX_tensor, trainY_tensor)\n",
    "\n",
    "#DataLoader를 통해 배치 크기, 데이터를 섞을지 등을 결정한다.\n",
    "#참고) drop_last: batch_size에 따라 마지막 batch의 길이가 달라질 수 있어서, 마지막 배치를 사용할지 여부\n",
    "dataloader = DataLoader(dataset, batch_size = batch_size, \n",
    "                        shuffle = False, drop_last = True) "
   ]
  },
  {
   "cell_type": "markdown",
   "id": "aaa47227",
   "metadata": {},
   "source": [
    "### modeling"
   ]
  },
  {
   "cell_type": "code",
   "execution_count": 15,
   "id": "2744ed96",
   "metadata": {},
   "outputs": [],
   "source": [
    "#LSTM 만들기\n",
    "\n",
    "class LSTMModel(nn.Module):\n",
    "    def __init__(self, input_dim, hidden_dim, seq_length, output_dim, layers): \n",
    "        super(LSTMModel, self).__init__()\n",
    "        \n",
    "        self.output_dim = output_dim\n",
    "        self.layers = layers\n",
    "        self.hidden_dim = hidden_dim\n",
    "        self.seq_length = seq_length\n",
    "        #self.input_dim = input_dim\n",
    "        \n",
    "        #참고) batch_first: True이면 Output 값의 사이즈는 (batch, seq, feature)\n",
    "        self.lstm = nn.LSTM(input_dim, hidden_dim, num_layers = layers, batch_first = True)\n",
    "        self.fc = nn.Linear(hidden_dim, output_dim, bias = True)\n",
    "    \n",
    "\n",
    "    def reset_hidden_state(self):\n",
    "        #hidden state 초기화 함수\n",
    "        #매번 새로운 학습을 하여 최적의 값을 찾기 위해서 사용\n",
    "        self.hidden = (\n",
    "        torch.zeros(self.layers, self.seq_length, self.hidden_dim),\n",
    "        torch.zeros(self.layers, self.seq_length, self.hidden_dim)\n",
    "        )\n",
    "        \n",
    "        \n",
    "    def forward(self,x):\n",
    "        out, _ = self.lstm(x)\n",
    "        out = self.fc(out[:, -1])\n",
    "\n",
    "        return out"
   ]
  },
  {
   "cell_type": "code",
   "execution_count": 16,
   "id": "8b053f9c",
   "metadata": {},
   "outputs": [],
   "source": [
    "LSTM = LSTMModel(data_dim, hidden_dim, seq_length, output_dim, 1).to(device)"
   ]
  },
  {
   "cell_type": "code",
   "execution_count": 17,
   "id": "f442649e",
   "metadata": {},
   "outputs": [],
   "source": [
    "#training\n",
    "def train_LSTM(model, train_df, epochs, lr, verbose, patience):\n",
    "    \n",
    "    #손실함수 지정\n",
    "    criterion = nn.MSELoss().to(device)\n",
    "    \n",
    "    #최적화\n",
    "    optimizer = optim.Adam(model.parameters(), lr = learning_rate)\n",
    "    \n",
    "    #에포크마다 loss 저장하기\n",
    "    train_hist = np.zeros(epochs) #epoch 크기의 배열을 생성해 각 epoch마다 loss 저장\n",
    "    for epoch in range(epochs):\n",
    "        avg_cost = 0\n",
    "        total_batch = len(train_df)\n",
    "        \n",
    "        for batch_idx, samples in enumerate(train_df):\n",
    "            x_train, y_train = samples\n",
    "            \n",
    "            #seq별 hidden state reset\n",
    "            model.reset_hidden_state()\n",
    "            \n",
    "            #h(x) 계산\n",
    "            outputs = model(x_train)\n",
    "            \n",
    "            #cost 계산\n",
    "            loss = criterion(outputs, y_train)\n",
    "            \n",
    "            #참고: 파이토치에서 역전파 수행 시 계속 값을 더해주기 때문에,\n",
    "            #역전파 수행 전 gradients를 0으로 만들어주고 시작해야 한다.\n",
    "            optimizer.zero_grad()\n",
    "            loss.backward()\n",
    "            optimizer.step()\n",
    "            \n",
    "            avg_cost += loss/total_batch\n",
    "        train_hist[epoch] = avg_cost\n",
    "        \n",
    "        if epoch%verbose == 0:\n",
    "            print(\"Epoch: \", \"%04d\" %(epoch),\n",
    "                 'train loss: ', '{:.4f}'.format(avg_cost))\n",
    "            \n",
    "        #patience마다 early stopping 여부 확인\n",
    "        #참고) early stopping: 더 이상 개선이 없으면 학습을 중단한다. overfitting 방지\n",
    "        if (epoch%patience == 0) & (epoch !=0):\n",
    "            if train_hist[epoch-patience] < train_hist[epoch]:\n",
    "                print('\\n Early Stopping')\n",
    "                break\n",
    "                \n",
    "    return model.eval(), train_hist"
   ]
  },
  {
   "cell_type": "code",
   "execution_count": 18,
   "id": "3b3e05a7",
   "metadata": {},
   "outputs": [
    {
     "name": "stdout",
     "output_type": "stream",
     "text": [
      "Epoch:  0000 train loss:  0.6093\n",
      "Epoch:  0020 train loss:  0.0021\n",
      "Epoch:  0040 train loss:  0.0010\n",
      "Epoch:  0060 train loss:  0.0007\n",
      "Epoch:  0080 train loss:  0.0007\n",
      "\n",
      " Early Stopping\n"
     ]
    }
   ],
   "source": [
    "model, train_hist = train_LSTM(LSTM, dataloader, epochs = epochs, \n",
    "                               lr = learning_rate, verbose = 20, patience = 20)"
   ]
  },
  {
   "cell_type": "code",
   "execution_count": 19,
   "id": "a8ce1874",
   "metadata": {},
   "outputs": [
    {
     "name": "stdout",
     "output_type": "stream",
     "text": [
      "RMSE score:  0.16795106548530067\n",
      "0.6425243092316837\n"
     ]
    }
   ],
   "source": [
    "with torch.no_grad(): #gradient 누적 방지 \n",
    "    pred = []\n",
    "    for i in range(len(testX_tensor)):\n",
    "        model.reset_hidden_state()\n",
    "        \n",
    "        predicted = model(torch.unsqueeze(testX_tensor[i], 0))\n",
    "        predicted = torch.flatten(predicted).item()\n",
    "        pred.append(predicted)\n",
    "        \n",
    "    #scaling 다시 원래대로 돌리기\n",
    "    pred_inverse = scaler_y.inverse_transform(np.array(pred).reshape(-1, 1))    \n",
    "    testY_inverse = scaler_y.inverse_transform(testY_tensor)    \n",
    "\n",
    "\n",
    "#RMSE\n",
    "rmse = mean_squared_error(testY_inverse, pred_inverse)**0.5\n",
    "print('RMSE score: ', rmse)\n",
    "\n",
    "#target test\n",
    "#마지막 날의 다음 날 착과수 예측해보기\n",
    "#제외해도 됨\n",
    "length = len(test_set)\n",
    "target = np.array(test_set)[length-seq_length:]\n",
    "\n",
    "target = torch.FloatTensor(target)\n",
    "target = target.reshape([1, seq_length, data_dim])\n",
    "\n",
    "out = model(target)\n",
    "pre = torch.flatten(out).item()\n",
    "\n",
    "pre = round(pre, 8)\n",
    "pre_inverse = scaler_y.inverse_transform(np.array(pre).reshape(-1, 1))\n",
    "print(pre_inverse.reshape([1])[0])"
   ]
  },
  {
   "cell_type": "code",
   "execution_count": 20,
   "id": "17960997",
   "metadata": {},
   "outputs": [
    {
     "data": {
      "text/plain": [
       "array([[0.71173921],\n",
       "       [0.70180833],\n",
       "       [0.69997133],\n",
       "       ...,\n",
       "       [0.63781667],\n",
       "       [0.64082297],\n",
       "       [0.64140135]])"
      ]
     },
     "execution_count": 20,
     "metadata": {},
     "output_type": "execute_result"
    }
   ],
   "source": [
    "pred_inverse"
   ]
  },
  {
   "cell_type": "code",
   "execution_count": 21,
   "id": "c38ab588",
   "metadata": {},
   "outputs": [
    {
     "data": {
      "text/plain": [
       "array([[0.74999989],\n",
       "       [0.74999989],\n",
       "       [0.74999989],\n",
       "       ...,\n",
       "       [0.49999999],\n",
       "       [0.49999999],\n",
       "       [0.49999999]])"
      ]
     },
     "execution_count": 21,
     "metadata": {},
     "output_type": "execute_result"
    }
   ],
   "source": [
    "testY_inverse"
   ]
  },
  {
   "cell_type": "code",
   "execution_count": 25,
   "id": "e212e044",
   "metadata": {},
   "outputs": [
    {
     "data": {
      "image/png": "[encoded data removed]",
      "text/plain": [
       "<Figure size 1000x600 with 1 Axes>"
      ]
     },
     "metadata": {},
     "output_type": "display_data"
    }
   ],
   "source": [
    "plt.figure(figsize = (10,6))\n",
    "plt.plot(testY_inverse, label = 'Real Data')\n",
    "plt.plot(pred_inverse, label = 'predicted data')\n",
    "plt.title('Time series prediction')\n",
    "plt.legend()\n",
    "plt.show()"
   ]
  }
 ],
 "metadata": {
  "kernelspec": {
   "display_name": "Python 3 (ipykernel)",
   "language": "python",
   "name": "python3"
  },
  "language_info": {
   "codemirror_mode": {
    "name": "ipython",
    "version": 3
   },
   "file_extension": ".py",
   "mimetype": "text/x-python",
   "name": "python",
   "nbconvert_exporter": "python",
   "pygments_lexer": "ipython3",
   "version": "3.9.18"
  }
 },
 "nbformat": 4,
 "nbformat_minor": 5
}
