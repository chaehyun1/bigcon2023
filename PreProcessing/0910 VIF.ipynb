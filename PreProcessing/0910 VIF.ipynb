{
 "cells": [
  {
   "cell_type": "code",
   "execution_count": 8,
   "id": "45c53e06",
   "metadata": {},
   "outputs": [],
   "source": [
    "import pandas as pd\n",
    "import numpy as np\n",
    "import matplotlib.pyplot as plt\n",
    "import seaborn as sns\n",
    "from statsmodels.stats.outliers_influence import variance_inflation_factor"
   ]
  },
  {
   "cell_type": "code",
   "execution_count": 11,
   "id": "7409c555",
   "metadata": {},
   "outputs": [],
   "source": [
    "df = pd.read_csv('0910 착과수_normalized.csv')"
   ]
  },
  {
   "cell_type": "code",
   "execution_count": 12,
   "id": "39a07700",
   "metadata": {},
   "outputs": [
    {
     "data": {
      "text/plain": [
       "16"
      ]
     },
     "execution_count": 12,
     "metadata": {},
     "output_type": "execute_result"
    }
   ],
   "source": [
    "len(df.columns)"
   ]
  },
  {
   "cell_type": "code",
   "execution_count": 27,
   "id": "49e4624a",
   "metadata": {},
   "outputs": [
    {
     "data": {
      "text/plain": [
       "Index(['STRG_DT', 'FRST_TREE_CNT', 'PFBS_NTRO_CBDX_CTRN', 'EXTN_TPRT',\n",
       "       'DWP_TPRT', 'ABSLT_HMDT', 'STRTN_WATER', 'EXTN_SRQT', 'WATER_LACK_VL',\n",
       "       'SPL_TPRT_1', 'HTNG_TPRT_1', 'SPL_TPRT_2', 'AVE_INNER_HMDT_1_2',\n",
       "       'SKLT_OPDR_RATE_1_RIGHT', 'AVE_INNER_TPRT_1_2', 'GDD'],\n",
       "      dtype='object')"
      ]
     },
     "execution_count": 27,
     "metadata": {},
     "output_type": "execute_result"
    }
   ],
   "source": [
    "df.columns"
   ]
  },
  {
   "cell_type": "code",
   "execution_count": 33,
   "id": "a206d5ec",
   "metadata": {},
   "outputs": [
    {
     "name": "stdout",
     "output_type": "stream",
     "text": [
      "최종 VIF\n",
      "                    feature       VIF\n",
      "0      PFBS_NTRO_CBDX_CTRN  1.505096\n",
      "1                EXTN_TPRT  4.365249\n",
      "2               ABSLT_HMDT  5.926118\n",
      "3                EXTN_SRQT  2.635573\n",
      "4            WATER_LACK_VL  7.116903\n",
      "5               SPL_TPRT_1  3.519787\n",
      "6              HTNG_TPRT_1  3.001438\n",
      "7               SPL_TPRT_2  2.153983\n",
      "8       AVE_INNER_HMDT_1_2  5.982560\n",
      "9   SKLT_OPDR_RATE_1_RIGHT  2.274710\n",
      "10                     GDD  1.185040\n"
     ]
    }
   ],
   "source": [
    "df_drop = df.copy()\n",
    "\n",
    "# 뺀거\n",
    "list = ['STRTN_WATER', 'DWP_TPRT', 'AVE_INNER_TPRT_1_2'] #다중공선성 고려해서 높은 값 삭제\n",
    "\n",
    "variables = df_drop[['PFBS_NTRO_CBDX_CTRN', 'EXTN_TPRT',\\\n",
    "       'ABSLT_HMDT', 'EXTN_SRQT', 'WATER_LACK_VL',\\\n",
    "       'SPL_TPRT_1', 'HTNG_TPRT_1', 'SPL_TPRT_2', 'AVE_INNER_HMDT_1_2',\\\n",
    "       'SKLT_OPDR_RATE_1_RIGHT', 'GDD']]\n",
    "\n",
    "\n",
    "# VIF 계산\n",
    "vif_data = pd.DataFrame()\n",
    "vif_data[\"feature\"] = variables.columns\n",
    "vif_data[\"VIF\"] = [variance_inflation_factor(variables.values, i) for i in range(variables.shape[1])]\n",
    "\n",
    "print(\"최종 VIF\\n\", vif_data)\n"
   ]
  },
  {
   "cell_type": "code",
   "execution_count": 25,
   "id": "f4186740",
   "metadata": {},
   "outputs": [
    {
     "name": "stdout",
     "output_type": "stream",
     "text": [
      "0.8432241308413129\n",
      "0.023413452502187102\n",
      "0.5571575749556331\n",
      "0.9635248598662627\n"
     ]
    }
   ],
   "source": [
    "correlation = df['ABSLT_HMDT'].corr(df['STRTN_WATER'])\n",
    "correlation2 = df['ABSLT_HMDT'].corr(df['WATER_LACK_VL'])\n",
    "correlation3 = df['STRTN_WATER'].corr(df['WATER_LACK_VL'])\n",
    "correlation4 = df['ABSLT_HMDT'].corr(df['DWP_TPRT'])\n",
    "print(correlation)\n",
    "print(correlation2)\n",
    "print(correlation3)\n",
    "print(correlation4)"
   ]
  }
 ],
 "metadata": {
  "kernelspec": {
   "display_name": "Python 3 (ipykernel)",
   "language": "python",
   "name": "python3"
  },
  "language_info": {
   "codemirror_mode": {
    "name": "ipython",
    "version": 3
   },
   "file_extension": ".py",
   "mimetype": "text/x-python",
   "name": "python",
   "nbconvert_exporter": "python",
   "pygments_lexer": "ipython3",
   "version": "3.9.7"
  }
 },
 "nbformat": 4,
 "nbformat_minor": 5
}
